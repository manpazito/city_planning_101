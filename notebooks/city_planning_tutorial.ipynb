{
 "cells": [
  {
   "cell_type": "markdown",
   "metadata": {},
   "source": [
    "# City Planning 101: Census Data, ArcGIS, and Data Visualization\n",
    "\n",
    "This notebook demonstrates how to work with census data, ArcGIS, and data visualization tools for city planning applications.\n",
    "\n",
    "## Setup\n",
    "\n",
    "First, let's import the necessary libraries:"
   ]
  },
  {
   "cell_type": "code",
   "execution_count": null,
   "metadata": {},
   "outputs": [],
   "source": [
    "import pandas as pd\n",
    "import numpy as np\n",
    "import matplotlib.pyplot as plt\n",
    "import seaborn as sns\n",
    "\n",
    "# Set visualization defaults\n",
    "sns.set_style(\"whitegrid\")\n",
    "plt.rcParams['figure.figsize'] = (12, 6)\n",
    "plt.rcParams['figure.dpi'] = 100\n",
    "\n",
    "print(\"✓ Libraries imported successfully\")"
   ]
  },
  {
   "cell_type": "markdown",
   "metadata": {},
   "source": [
    "## Part 1: Working with Census Data\n",
    "\n",
    "The Census Bureau provides extensive demographic and economic data. We'll use the `census` package to access this data.\n",
    "\n",
    "### Setting up Census API Access\n",
    "\n",
    "To use the Census API:\n",
    "1. Get a free API key from: https://api.census.gov/data/key_signup.html\n",
    "2. Set it as an environment variable: `export CENSUS_API_KEY='your_key_here'`\n",
    "\n",
    "For this tutorial, we'll work with sample data instead."
   ]
  },
  {
   "cell_type": "code",
   "execution_count": null,
   "metadata": {},
   "outputs": [],
   "source": [
    "# Example: What census data looks like\n",
    "# This simulates data you would get from the Census API\n",
    "\n",
    "census_data_example = pd.DataFrame({\n",
    "    'state_name': ['California', 'Texas', 'Florida', 'New York', 'Pennsylvania'],\n",
    "    'total_population': [39538223, 29145505, 21538187, 20201249, 13002700],\n",
    "    'median_age': [36.5, 34.8, 42.0, 38.9, 40.8],\n",
    "    'median_household_income': [75235, 64034, 59227, 72108, 63463]\n",
    "})\n",
    "\n",
    "print(\"Sample Census Data:\")\n",
    "display(census_data_example)"
   ]
  },
  {
   "cell_type": "markdown",
   "metadata": {},
   "source": [
    "## Part 2: Data Manipulation with Pandas and NumPy\n",
    "\n",
    "Now let's create sample city planning data and perform analysis."
   ]
  },
  {
   "cell_type": "code",
   "execution_count": null,
   "metadata": {},
   "outputs": [],
   "source": [
    "# Create sample city district data\n",
    "districts_data = {\n",
    "    'district_name': [\n",
    "        'Downtown', 'North Side', 'South Side', 'East Side', 'West Side',\n",
    "        'Riverside', 'Hillside', 'Industrial', 'Suburban', 'Commercial'\n",
    "    ],\n",
    "    'population': [25000, 18500, 22000, 15000, 19000, 12000, 8500, 3000, 28000, 5000],\n",
    "    'area_sq_miles': [2.5, 4.2, 3.8, 5.1, 3.5, 2.8, 6.2, 8.5, 12.0, 1.5],\n",
    "    'median_income': [65000, 52000, 48000, 45000, 58000, 70000, 55000, 42000, 72000, 85000],\n",
    "    'parks_count': [5, 8, 6, 4, 7, 10, 15, 2, 20, 1],\n",
    "    'schools_count': [3, 5, 4, 3, 4, 2, 3, 1, 8, 0],\n",
    "    'crime_rate': [3.2, 2.8, 4.1, 3.5, 2.5, 1.8, 1.2, 2.0, 1.5, 2.3]\n",
    "}\n",
    "\n",
    "df = pd.DataFrame(districts_data)\n",
    "\n",
    "print(\"City Districts Data:\")\n",
    "display(df)"
   ]
  },
  {
   "cell_type": "markdown",
   "metadata": {},
   "source": [
    "### Calculate Urban Planning Metrics"
   ]
  },
  {
   "cell_type": "code",
   "execution_count": null,
   "metadata": {},
   "outputs": [],
   "source": [
    "# Calculate population density\n",
    "df['population_density'] = df['population'] / df['area_sq_miles']\n",
    "\n",
    "# Calculate amenities per capita\n",
    "df['parks_per_10k'] = (df['parks_count'] / df['population']) * 10000\n",
    "df['schools_per_10k'] = (df['schools_count'] / df['population']) * 10000\n",
    "\n",
    "# Calculate livability score\n",
    "df['livability_score'] = (\n",
    "    (df['median_income'] / df['median_income'].max()) * 30 +\n",
    "    ((df['crime_rate'].max() - df['crime_rate']) / df['crime_rate'].max()) * 30 +\n",
    "    (df['parks_per_10k'] / df['parks_per_10k'].max()) * 20 +\n",
    "    (df['schools_per_10k'] / df['schools_per_10k'].max()) * 20\n",
    ")\n",
    "\n",
    "print(\"Calculated Metrics:\")\n",
    "display(df[['district_name', 'population_density', 'parks_per_10k', 'livability_score']].head())"
   ]
  },
  {
   "cell_type": "markdown",
   "metadata": {},
   "source": [
    "### Statistical Analysis with NumPy"
   ]
  },
  {
   "cell_type": "code",
   "execution_count": null,
   "metadata": {},
   "outputs": [],
   "source": [
    "# Population statistics\n",
    "pop_array = df['population'].values\n",
    "\n",
    "print(\"Population Statistics:\")\n",
    "print(f\"  Mean: {np.mean(pop_array):,.0f}\")\n",
    "print(f\"  Median: {np.median(pop_array):,.0f}\")\n",
    "print(f\"  Std Dev: {np.std(pop_array):,.0f}\")\n",
    "print(f\"  Min: {np.min(pop_array):,.0f}\")\n",
    "print(f\"  Max: {np.max(pop_array):,.0f}\")\n",
    "\n",
    "# Correlation analysis\n",
    "correlation = np.corrcoef(df['median_income'], df['crime_rate'])[0, 1]\n",
    "print(f\"\\nCorrelation (Income vs Crime Rate): {correlation:.3f}\")"
   ]
  },
  {
   "cell_type": "markdown",
   "metadata": {},
   "source": [
    "## Part 3: Data Visualization\n",
    "\n",
    "Let's create various visualizations to understand our city planning data."
   ]
  },
  {
   "cell_type": "markdown",
   "metadata": {},
   "source": [
    "### Population Distribution"
   ]
  },
  {
   "cell_type": "code",
   "execution_count": null,
   "metadata": {},
   "outputs": [],
   "source": [
    "# Population by district\n",
    "plt.figure(figsize=(12, 6))\n",
    "df_sorted = df.sort_values('population', ascending=False)\n",
    "bars = plt.bar(df_sorted['district_name'], df_sorted['population'], \n",
    "               color='steelblue', edgecolor='navy', alpha=0.7)\n",
    "\n",
    "plt.title('Population by District', fontsize=16, fontweight='bold')\n",
    "plt.xlabel('District', fontsize=12)\n",
    "plt.ylabel('Population', fontsize=12)\n",
    "plt.xticks(rotation=45, ha='right')\n",
    "plt.grid(axis='y', alpha=0.3)\n",
    "\n",
    "# Add value labels\n",
    "for bar in bars:\n",
    "    height = bar.get_height()\n",
    "    plt.text(bar.get_x() + bar.get_width()/2., height,\n",
    "            f'{int(height):,}', ha='center', va='bottom', fontsize=9)\n",
    "\n",
    "plt.tight_layout()\n",
    "plt.show()"
   ]
  },
  {
   "cell_type": "markdown",
   "metadata": {},
   "source": [
    "### Income vs Crime Rate Analysis"
   ]
  },
  {
   "cell_type": "code",
   "execution_count": null,
   "metadata": {},
   "outputs": [],
   "source": [
    "# Scatter plot: Income vs Crime\n",
    "plt.figure(figsize=(10, 6))\n",
    "scatter = plt.scatter(df['median_income'], df['crime_rate'], \n",
    "                     s=df['population']/100, alpha=0.6,\n",
    "                     c=df['population_density'], cmap='viridis',\n",
    "                     edgecolors='black', linewidth=1)\n",
    "\n",
    "# Add labels\n",
    "for idx, row in df.iterrows():\n",
    "    plt.annotate(row['district_name'], \n",
    "                (row['median_income'], row['crime_rate']),\n",
    "                xytext=(5, 5), textcoords='offset points', fontsize=8)\n",
    "\n",
    "cbar = plt.colorbar(scatter)\n",
    "cbar.set_label('Population Density', rotation=270, labelpad=20)\n",
    "\n",
    "plt.title('Median Income vs Crime Rate by District', fontsize=14, fontweight='bold')\n",
    "plt.xlabel('Median Household Income ($)', fontsize=12)\n",
    "plt.ylabel('Crime Rate (per 1000)', fontsize=12)\n",
    "plt.grid(alpha=0.3)\n",
    "plt.tight_layout()\n",
    "plt.show()"
   ]
  },
  {
   "cell_type": "markdown",
   "metadata": {},
   "source": [
    "### District Metrics Heatmap"
   ]
  },
  {
   "cell_type": "code",
   "execution_count": null,
   "metadata": {},
   "outputs": [],
   "source": [
    "# Create heatmap of normalized metrics\n",
    "plt.figure(figsize=(10, 8))\n",
    "\n",
    "metrics = ['population', 'median_income', 'parks_count', 'crime_rate', 'population_density']\n",
    "df_normalized = df[metrics].copy()\n",
    "\n",
    "# Normalize\n",
    "for col in metrics:\n",
    "    df_normalized[col] = (df[col] - df[col].min()) / (df[col].max() - df[col].min())\n",
    "\n",
    "df_normalized.index = df['district_name']\n",
    "\n",
    "sns.heatmap(df_normalized.T, annot=True, fmt='.2f', cmap='YlOrRd',\n",
    "            cbar_kws={'label': 'Normalized Value'},\n",
    "            linewidths=0.5, linecolor='gray')\n",
    "\n",
    "plt.title('District Metrics Heatmap (Normalized)', fontsize=14, fontweight='bold')\n",
    "plt.xlabel('District', fontsize=12)\n",
    "plt.ylabel('Metric', fontsize=12)\n",
    "plt.tight_layout()\n",
    "plt.show()"
   ]
  },
  {
   "cell_type": "markdown",
   "metadata": {},
   "source": [
    "### Comprehensive Dashboard"
   ]
  },
  {
   "cell_type": "code",
   "execution_count": null,
   "metadata": {},
   "outputs": [],
   "source": [
    "# Create a multi-panel dashboard\n",
    "fig, axes = plt.subplots(2, 2, figsize=(15, 10))\n",
    "fig.suptitle('City Planning Dashboard', fontsize=16, fontweight='bold')\n",
    "\n",
    "# Plot 1: Population\n",
    "ax1 = axes[0, 0]\n",
    "df_sorted = df.sort_values('population', ascending=False)\n",
    "ax1.bar(range(len(df_sorted)), df_sorted['population'], color='steelblue', alpha=0.7)\n",
    "ax1.set_xticks(range(len(df_sorted)))\n",
    "ax1.set_xticklabels(df_sorted['district_name'], rotation=45, ha='right')\n",
    "ax1.set_title('Population by District')\n",
    "ax1.set_ylabel('Population')\n",
    "ax1.grid(axis='y', alpha=0.3)\n",
    "\n",
    "# Plot 2: Income distribution\n",
    "ax2 = axes[0, 1]\n",
    "ax2.hist(df['median_income'], bins=8, color='green', alpha=0.7, edgecolor='black')\n",
    "ax2.set_title('Median Income Distribution')\n",
    "ax2.set_xlabel('Median Income ($)')\n",
    "ax2.set_ylabel('Frequency')\n",
    "ax2.grid(axis='y', alpha=0.3)\n",
    "\n",
    "# Plot 3: Crime vs Density\n",
    "ax3 = axes[1, 0]\n",
    "ax3.scatter(df['population_density'], df['crime_rate'], s=100, alpha=0.6, c='red', edgecolors='black')\n",
    "ax3.set_title('Crime Rate vs Population Density')\n",
    "ax3.set_xlabel('Population Density (per sq mi)')\n",
    "ax3.set_ylabel('Crime Rate')\n",
    "ax3.grid(alpha=0.3)\n",
    "\n",
    "# Plot 4: Parks vs Population\n",
    "ax4 = axes[1, 1]\n",
    "ax4.scatter(df['population'], df['parks_count'], s=100, alpha=0.6, c='forestgreen', edgecolors='black')\n",
    "ax4.set_title('Parks Count vs Population')\n",
    "ax4.set_xlabel('Population')\n",
    "ax4.set_ylabel('Number of Parks')\n",
    "ax4.grid(alpha=0.3)\n",
    "\n",
    "plt.tight_layout()\n",
    "plt.show()"
   ]
  },
  {
   "cell_type": "markdown",
   "metadata": {},
   "source": [
    "## Part 4: ArcGIS Integration\n",
    "\n",
    "The ArcGIS Python API provides powerful GIS capabilities for spatial analysis.\n",
    "\n",
    "### Key Capabilities:\n",
    "\n",
    "1. **Geocoding**: Convert addresses to coordinates\n",
    "2. **Feature Layers**: Access and query spatial data\n",
    "3. **Web Maps**: Create interactive maps\n",
    "4. **Spatial Analysis**: Perform GIS operations\n",
    "\n",
    "### Example: Creating Location Data"
   ]
  },
  {
   "cell_type": "code",
   "execution_count": null,
   "metadata": {},
   "outputs": [],
   "source": [
    "# Create a DataFrame with spatial information\n",
    "facilities = pd.DataFrame({\n",
    "    'name': ['City Hall', 'Central Park', 'Community Center', 'Public Library', 'Fire Station'],\n",
    "    'type': ['Government', 'Recreation', 'Community', 'Education', 'Emergency'],\n",
    "    'latitude': [40.7128, 40.7829, 40.7589, 40.7531, 40.7308],\n",
    "    'longitude': [-74.0060, -73.9654, -73.9851, -73.9772, -73.9973],\n",
    "    'capacity': [500, 50000, 300, 150, 50]\n",
    "})\n",
    "\n",
    "print(\"City Planning Facilities with Coordinates:\")\n",
    "display(facilities)\n",
    "\n",
    "print(\"\\n✓ This data can be used with ArcGIS to create feature layers and web maps\")"
   ]
  },
  {
   "cell_type": "markdown",
   "metadata": {},
   "source": [
    "### Using ArcGIS (Optional)\n",
    "\n",
    "To use the full ArcGIS functionality:\n",
    "\n",
    "```python\n",
    "from arcgis.gis import GIS\n",
    "from arcgis.geocoding import geocode\n",
    "\n",
    "# Connect to ArcGIS Online\n",
    "gis = GIS()  # Anonymous access\n",
    "# For authenticated access: gis = GIS(\"https://www.arcgis.com\", username, password)\n",
    "\n",
    "# Geocode an address\n",
    "location = geocode(\"1600 Pennsylvania Avenue NW, Washington, DC\")[0]\n",
    "print(f\"Coordinates: {location['location']}\")\n",
    "\n",
    "# Search for data\n",
    "items = gis.content.search(\"census tracts\", item_type=\"Feature Layer\")\n",
    "```"
   ]
  },
  {
   "cell_type": "markdown",
   "metadata": {},
   "source": [
    "## Summary\n",
    "\n",
    "This notebook demonstrated:\n",
    "\n",
    "1. **Census Data**: How to structure and work with demographic data\n",
    "2. **Pandas/NumPy**: Data manipulation and statistical analysis for city planning\n",
    "3. **Visualization**: Creating informative plots with matplotlib and seaborn\n",
    "4. **ArcGIS**: Spatial data concepts and GIS integration\n",
    "\n",
    "### Next Steps:\n",
    "\n",
    "- Get a Census API key and explore real census data\n",
    "- Sign up for ArcGIS Online to access full GIS capabilities\n",
    "- Explore additional libraries like geopandas for spatial operations\n",
    "- Create interactive visualizations with plotly or folium"
   ]
  }
 ],
 "metadata": {
  "kernelspec": {
   "display_name": "Python 3",
   "language": "python",
   "name": "python3"
  },
  "language_info": {
   "codemirror_mode": {
    "name": "ipython",
    "version": 3
   },
   "file_extension": ".py",
   "mimetype": "text/x-python",
   "name": "python",
   "nbconvert_exporter": "python",
   "pygments_lexer": "ipython3",
   "version": "3.8.0"
  }
 },
 "nbformat": 4,
 "nbformat_minor": 4
}

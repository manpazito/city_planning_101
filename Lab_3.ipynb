{
  "cells": [
    {
      "cell_type": "markdown",
      "id": "07535c56",
      "metadata": {
        "id": "07535c56"
      },
      "source": [
        "\n",
        "\n",
        "# Module 1 Lab -  Exploring and Analyzing Missing Files in a Project\n",
        "You are working on a new project, where you need to organize a number of report files in `.docx` format. Each `.docx` file should have a `.pdf` version (with the same name) as well as a supplementary `.csv` file but some `.csv` and `.pdf` files are missing. Your task is to identify the missing files and create a report of the name and count of missing `.pdf` and `.csv` files.\n",
        "\n",
        "## Learning Objectives\n",
        "Organize a large number of report files.\n",
        "Identify missing files and create a report containing the name and count of missing pdf and csv files.\n",
        "Process files using loops, conditionals, and string methods\n",
        "Use functions to avoid repetition and make code easy to maintain\n",
        "\n",
        "## Dataset Description\n",
        "In order to complete this exercise you will need to access a directory named **`report_files/`** which contains:\n",
        "- **a number of `.docx` files** (`report_<number>.docx`) → These are always present.\n",
        "- **Some `.pdf` files are missing** (`report_<number>.pdf`).\n",
        "- **Some `.csv` files are missing** (`Supplementary_data_R<number>.csv`).\n",
        "\n",
        "<br>\n",
        "\n",
        "> **NOTE:**\n",
        "<br>To access the `report_file` folder, **you must** run the cell below, it will fetch the files from GitHub and store the directory in your (temp) files, which you can access by clicking on the Files icon on the left ribbon.\n"
      ]
    },
    {
      "cell_type": "code",
      "source": [
        "%%bash\n",
        "set -euo pipefail\n",
        "\n",
        "REPO_OWNER=\"UCB-urban-data101\"\n",
        "REPO_NAME=\"Module1_lab\"\n",
        "\n",
        "ZIP_URL_MAIN=\"https://github.com/${REPO_OWNER}/${REPO_NAME}/archive/refs/heads/main.zip\"\n",
        "ZIP_URL_MASTER=\"https://github.com/${REPO_OWNER}/${REPO_NAME}/archive/refs/heads/master.zip\"\n",
        "\n",
        "TMP_DIR=\"$(mktemp -d)\"\n",
        "ZIP_PATH=\"${TMP_DIR}/repo.zip\"\n",
        "\n",
        "# Fetch zip (wget; fallback to curl)\n",
        "if command -v wget >/dev/null 2>&1; then\n",
        "  wget -q -O \"$ZIP_PATH\" \"$ZIP_URL_MAIN\" || wget -q -O \"$ZIP_PATH\" \"$ZIP_URL_MASTER\"\n",
        "else\n",
        "  curl --fail -L -s -o \"$ZIP_PATH\" \"$ZIP_URL_MAIN\" || curl --fail -L -s -o \"$ZIP_PATH\" \"$ZIP_URL_MASTER\"\n",
        "fi\n",
        "\n",
        "\n",
        "unzip -oq \"$ZIP_PATH\" -d \"$TMP_DIR\"\n",
        "\n",
        "\n",
        "SRC_DIR_MAIN=\"${TMP_DIR}/${REPO_NAME}-main\"\n",
        "SRC_DIR_MASTER=\"${TMP_DIR}/${REPO_NAME}-master\"\n",
        "if [ -d \"${SRC_DIR_MAIN}/report_files\" ]; then\n",
        "  SRC_DIR=\"${SRC_DIR_MAIN}\"\n",
        "elif [ -d \"${SRC_DIR_MASTER}/report_files\" ]; then\n",
        "  SRC_DIR=\"${SRC_DIR_MASTER}\"\n",
        "else\n",
        "  echo \"Could not locate report_files after unzip. Contents were:\"\n",
        "  find \"$TMP_DIR\" -maxdepth 2 -type d -print\n",
        "  exit 1\n",
        "fi\n",
        "\n",
        "# Copy only the desired folder into CWD\n",
        "rm -rf report_files\n",
        "cp -R \"${SRC_DIR}/report_files\" .\n",
        "\n",
        "\n",
        "chmod -R u+rwX,go+rX report_files\n",
        "echo \"Fetch complete. Top-level entries in ./report_files:\"\n",
        "ls -al \"report_files\" | head -n 20 || true\n",
        "\n",
        "\n",
        "python - <<'PY'\n",
        "import os, glob\n",
        "root = \"report_files\"\n",
        "assert os.path.isdir(root), \"report_files directory not found\"\n",
        "csvs = sorted(glob.glob(os.path.join(root, \"*.csv\")))\n",
        "if csvs:\n",
        "    p = csvs[0]\n",
        "    print(f\"\\n[Python] Reading first 5 lines of: {os.path.basename(p)}\")\n",
        "    with open(p, \"r\", encoding=\"utf-8\", errors=\"replace\") as f:\n",
        "        for i, line in zip(range(5), f):\n",
        "            print(line.rstrip(\"\\n\"))\n",
        "else:\n",
        "    print(\"\\n[Python] No CSV detected to preview.\")\n",
        "PY\n",
        "\n",
        "\n",
        "rm -rf \"$TMP_DIR\"\n",
        "\n"
      ],
      "metadata": {
        "id": "lHEmYHLyCnzQ",
        "colab": {
          "base_uri": "https://localhost:8080/"
        },
        "outputId": "f7f74306-7ea6-4979-af4a-c5a3f0573215"
      },
      "id": "lHEmYHLyCnzQ",
      "execution_count": null,
      "outputs": [
        {
          "output_type": "stream",
          "name": "stdout",
          "text": [
            "Fetch complete. Top-level entries in ./report_files:\n",
            "total 5696\n",
            "drwxr-xr-x 2 root root 20480 Sep 17 17:17 .\n",
            "drwxr-xr-x 1 root root  4096 Sep 17 17:17 ..\n",
            "-rw-r--r-- 1 root root 36595 Sep 17 17:17 report_0.docx\n",
            "-rw-r--r-- 1 root root    24 Sep 17 17:17 report_0.pdf\n",
            "-rw-r--r-- 1 root root 36596 Sep 17 17:17 report_100.docx\n",
            "-rw-r--r-- 1 root root    36 Sep 17 17:17 report_100.pdf\n",
            "-rw-r--r-- 1 root root 36596 Sep 17 17:17 report_101.docx\n",
            "-rw-r--r-- 1 root root    26 Sep 17 17:17 report_101.pdf\n",
            "-rw-r--r-- 1 root root 36596 Sep 17 17:17 report_102.docx\n",
            "-rw-r--r-- 1 root root 36596 Sep 17 17:17 report_103.docx\n",
            "-rw-r--r-- 1 root root    26 Sep 17 17:17 report_103.pdf\n",
            "-rw-r--r-- 1 root root 36596 Sep 17 17:17 report_104.docx\n",
            "-rw-r--r-- 1 root root 36597 Sep 17 17:17 report_105.docx\n",
            "-rw-r--r-- 1 root root    26 Sep 17 17:17 report_105.pdf\n",
            "-rw-r--r-- 1 root root 36596 Sep 17 17:17 report_106.docx\n",
            "-rw-r--r-- 1 root root    36 Sep 17 17:17 report_106.pdf\n",
            "-rw-r--r-- 1 root root 36597 Sep 17 17:17 report_107.docx\n",
            "-rw-r--r-- 1 root root    26 Sep 17 17:17 report_107.pdf\n",
            "-rw-r--r-- 1 root root 36596 Sep 17 17:17 report_108.docx\n",
            "\n",
            "[Python] Reading first 5 lines of: Supplementary_data_R0.csv\n",
            "Data for Supplementary_data_R0.csv\n"
          ]
        }
      ]
    },
    {
      "cell_type": "markdown",
      "source": [
        "## Part I. Explore the Project Files\n",
        "\n",
        "### List All Files in the `report_files/` Directory\n",
        "- Import the `os` library\n",
        "- Call `os.listdir()` and pass the directory path (`\"report_files\\\") as an argument to get the list of files. (pass an argument means add it inside the parenthesis)\n",
        "\n",
        "**Example:**\n",
        "  ```\n",
        "  import os\n",
        "\n",
        "  # List all files in the directory\n",
        "  myDocuments = os.listdir(\"my_documents\")\n",
        "  ```\n",
        "\n"
      ],
      "metadata": {
        "id": "JlQuZ0baC2bO"
      },
      "id": "JlQuZ0baC2bO"
    },
    {
      "cell_type": "markdown",
      "source": [
        "### **❗️ TRY IT OUT ❗️**\n",
        "Using the code cell below and the example code block above, load in the report_files directory AND print the first 10 files contained within the directory.  When you are done writing your code, be sure to run it.\n",
        "\n",
        "> **Hint:** <br>\n",
        "Use indexing to select the first 10 files to print.  To do this, use brackets after the variable name where you are storing your newly-created list.  \n",
        "**Example:** `myDocuments[:10]`"
      ],
      "metadata": {
        "id": "-lK1NbA9BErk"
      },
      "id": "-lK1NbA9BErk"
    },
    {
      "cell_type": "code",
      "source": [
        "# import the os library\n",
        "import os\n",
        "\n",
        "# YOUR CODE HERE:\n",
        "#1. Create new variable called \"files\"\n",
        "files = os.listdir(\"report_files\")\n",
        "\n",
        "#2. Identify the first 10 values in files using indexing and print the output.\n",
        "print(files[:10])\n"
      ],
      "metadata": {
        "id": "icuzGuFNAz7I",
        "colab": {
          "base_uri": "https://localhost:8080/"
        },
        "outputId": "07f7eaee-a890-4c3e-ae25-ec06c69f57a9"
      },
      "id": "icuzGuFNAz7I",
      "execution_count": null,
      "outputs": [
        {
          "output_type": "stream",
          "name": "stdout",
          "text": [
            "['Supplementary_data_R24.csv', 'report_89.pdf', 'Supplementary_data_R31.csv', 'report_128.docx', 'report_116.docx', 'Supplementary_data_R122.csv', 'Supplementary_data_R37.csv', 'report_97.docx', 'report_7.docx', 'report_75.pdf']\n"
          ]
        }
      ]
    },
    {
      "cell_type": "markdown",
      "id": "aba8b0aa",
      "metadata": {
        "id": "aba8b0aa"
      },
      "source": [
        "---\n",
        "\n",
        "## Part II: Process Files Using Loops, Conditionals, and String Methods\n",
        "Now that we have progressed to Part II, we will have to complete the following tasks:\n",
        "- Use loops to iterate over the list of files.\n",
        "- Apply conditionals to filter files based on their extensions.\n",
        "- Use string methods to find files with specific patterns or extract certain parts of filenames."
      ]
    },
    {
      "cell_type": "markdown",
      "source": [
        "### Step 1: Categorize Files by Type *(Decomposition)*\n",
        "\n",
        "In order to determine what files are present and what are missing within such a big directory, it might be helpful to summarize its contents. In this exercise you'll apply what you learned in Part I and learn how to use iterators to create separate lists for each file type.  You'll also generate a count of the number of `.pdf`, `.csv`, and `.docx` files contained within your file_resources directory."
      ],
      "metadata": {
        "id": "w6MbD9HdP4KS"
      },
      "id": "w6MbD9HdP4KS"
    },
    {
      "cell_type": "markdown",
      "source": [
        "### Step 2: Create an empty list that contains all the files with specific types\n",
        "Creating empty lists allows you to collect and accumulate data as your program runs. Empty lists can be helpful when filtering results, storing user input, building datasets, or gathering items that meet certain conditions.\n",
        "\n",
        "**Example:**\n",
        "Let's say you're analyzing a directory containing photos and need to find all image files to create a backup or generate thumbnails. By creating an empty list first, you can:\n",
        "\n",
        "- List all `.jpg`, `.png`, and `.gif` files in various folders\n",
        "- Filter out corrupted or very small images\n",
        "- Sort them by file size or creation date"
      ],
      "metadata": {
        "id": "jlcYpnjkFuSI"
      },
      "id": "jlcYpnjkFuSI"
    },
    {
      "cell_type": "markdown",
      "source": [
        "### **❗️ TRY IT OUT ❗️**\n",
        "Run the cell below to create an empty list for docx file types.\n",
        "\n",
        "```\n",
        "# This is formatted as code\n",
        "```\n",
        "\n"
      ],
      "metadata": {
        "id": "bBS9TyV6w8QY"
      },
      "id": "bBS9TyV6w8QY"
    },
    {
      "cell_type": "code",
      "source": [
        "docx_files = []"
      ],
      "metadata": {
        "id": "OUL1HF1jGIak"
      },
      "id": "OUL1HF1jGIak",
      "execution_count": null,
      "outputs": []
    },
    {
      "cell_type": "markdown",
      "source": [
        "### Step 3: Set a condition and loop through the list of files\n",
        "**Loops** allow you to repeat a block of code multiple times without having to write the same code over and over again.\n",
        "\n",
        "> **Example:** <br>\n",
        "  ```\n",
        "  for fruit in [\"apple\", \"banana\", \"orange\"]:\n",
        "      print(fruit)\n",
        "  ```\n",
        "**IF** statements allow your code to execute different actions based on whether certain conditions are true or false. In this step, you will create a for loop and apply an if statement to iterate through every file of a particular type in a folder to retrieve its name.\n",
        "\n",
        "> **Example:** <br>\n",
        "  ```\n",
        "      if temperature > 80:\n",
        "          print(\"It's hot outside!\")\n",
        "  ```\n"
      ],
      "metadata": {
        "id": "gZi8B9dmGVtT"
      },
      "id": "gZi8B9dmGVtT"
    },
    {
      "cell_type": "markdown",
      "source": [
        "### **❗️ TRY IT OUT ❗️**\n",
        "Edit the code block below to create a for loop that iterates through every file in your list of `files`.  Add a condition to search for a particular file extension, \".docx\". Store the result in your new variable called \"`docx_files`\"."
      ],
      "metadata": {
        "id": "Mo06f0f804Fn"
      },
      "id": "Mo06f0f804Fn"
    },
    {
      "cell_type": "code",
      "source": [
        "# YOUR CODE HERE:\n",
        "# 1. Create your for loop\n",
        "for file in files:\n",
        "\n",
        "  # 2. Set your condition for the iterator.\n",
        "  # Hint: use file.endswith(\".docx\") to set your condition.\n",
        "  if file.endswith(\".docx\"):\n",
        "\n",
        "      # 3. Add each docx file name to your newly-created docx_files list.\n",
        "      # Hint: Use the append method to add each file name to docx files.\n",
        "      # The syntax is as follows: docx_files.append()\n",
        "      docx_files.append(file)\n",
        "\n",
        "print(docx_files[:10])"
      ],
      "metadata": {
        "id": "bYaOlmUQGWKu",
        "colab": {
          "base_uri": "https://localhost:8080/"
        },
        "outputId": "d2122da0-9722-4c78-906b-cdb1a128d9da"
      },
      "id": "bYaOlmUQGWKu",
      "execution_count": null,
      "outputs": [
        {
          "output_type": "stream",
          "name": "stdout",
          "text": [
            "['report_128.docx', 'report_116.docx', 'report_97.docx', 'report_7.docx', 'report_49.docx', 'report_93.docx', 'report_99.docx', 'report_65.docx', 'report_69.docx', 'report_94.docx']\n"
          ]
        }
      ]
    },
    {
      "cell_type": "markdown",
      "source": [
        "### Step 4: Create separate lists for `.pdf` and `.csv` files\n",
        "\n",
        "Now that we have created a list containing all of the names of the docx files in the directory, we will need to do the same for the other types of files in the directors, namely .pdf, and .csv files."
      ],
      "metadata": {
        "id": "0RQmmrIVHkW8"
      },
      "id": "0RQmmrIVHkW8"
    },
    {
      "cell_type": "markdown",
      "source": [
        "### **❗️ TRY IT OUT ❗️**\n",
        "Follow the same steps we used previously and write code to create separate lists for `.pdf` and `.csv` files."
      ],
      "metadata": {
        "id": "gDrwDg-XIXTG"
      },
      "id": "gDrwDg-XIXTG"
    },
    {
      "cell_type": "code",
      "source": [
        "# Getting you started by creating an empty list to hold the names of the pdf files\n",
        "pdf_files = []\n",
        "\n",
        "# YOUR CODE HERE\n",
        "for file in files:\n",
        "  if file.endswith(\".pdf\"):\n",
        "    pdf_files.append(file)\n",
        "\n",
        "# Getting you started by creating an empty list to hold the names of the csv files\n",
        "csv_files = []\n",
        "\n",
        "# YOUR CODE HERE\n",
        "for file in files:\n",
        "  if file.endswith(\".csv\"):\n",
        "    csv_files.append(file)\n",
        "\n"
      ],
      "metadata": {
        "id": "iGlpIiKsHzIh"
      },
      "id": "iGlpIiKsHzIh",
      "execution_count": null,
      "outputs": []
    },
    {
      "cell_type": "markdown",
      "source": [
        "### Step 5: Run the code cell below to print the results."
      ],
      "metadata": {
        "id": "9EETQuPPHF_O"
      },
      "id": "9EETQuPPHF_O"
    },
    {
      "cell_type": "code",
      "source": [
        "print(docx_files, \"\\n\", pdf_files, \"\\n\", csv_files)\n"
      ],
      "metadata": {
        "id": "Tc-P8XiPHFS_",
        "colab": {
          "base_uri": "https://localhost:8080/"
        },
        "outputId": "abf258d4-e1ef-4d2f-a8b0-eb847c177d3a"
      },
      "id": "Tc-P8XiPHFS_",
      "execution_count": null,
      "outputs": [
        {
          "output_type": "stream",
          "name": "stdout",
          "text": [
            "['report_128.docx', 'report_116.docx', 'report_97.docx', 'report_7.docx', 'report_49.docx', 'report_93.docx', 'report_99.docx', 'report_65.docx', 'report_69.docx', 'report_94.docx', 'report_66.docx', 'report_17.docx', 'report_107.docx', 'report_92.docx', 'report_46.docx', 'report_63.docx', 'report_9.docx', 'report_108.docx', 'report_18.docx', 'report_41.docx', 'report_119.docx', 'report_53.docx', 'report_6.docx', 'report_14.docx', 'report_109.docx', 'report_105.docx', 'report_47.docx', 'report_130.docx', 'report_122.docx', 'report_36.docx', 'report_91.docx', 'report_129.docx', 'report_12.docx', 'report_77.docx', 'report_72.docx', 'report_22.docx', 'report_75.docx', 'report_81.docx', 'report_133.docx', 'report_67.docx', 'report_90.docx', 'report_95.docx', 'report_96.docx', 'report_98.docx', 'report_20.docx', 'report_57.docx', 'report_2.docx', 'report_85.docx', 'report_58.docx', 'report_127.docx', 'report_37.docx', 'report_27.docx', 'report_13.docx', 'report_89.docx', 'report_78.docx', 'report_84.docx', 'report_86.docx', 'report_59.docx', 'report_131.docx', 'report_35.docx', 'report_115.docx', 'report_83.docx', 'report_56.docx', 'report_8.docx', 'report_70.docx', 'report_16.docx', 'report_50.docx', 'report_28.docx', 'report_31.docx', 'report_0.docx', 'report_80.docx', 'report_44.docx', 'report_68.docx', 'report_120.docx', 'report_15.docx', 'report_25.docx', 'report_124.docx', 'report_40.docx', 'report_82.docx', 'report_54.docx', 'report_64.docx', 'report_42.docx', 'report_76.docx', 'report_1.docx', 'report_121.docx', 'report_24.docx', 'report_117.docx', 'report_104.docx', 'report_3.docx', 'report_62.docx', 'report_19.docx', 'report_29.docx', 'report_4.docx', 'report_26.docx', 'report_88.docx', 'report_61.docx', 'report_51.docx', 'report_71.docx', 'report_73.docx', 'report_5.docx', 'report_118.docx', 'report_55.docx', 'report_39.docx', 'report_101.docx', 'report_45.docx', 'report_30.docx', 'report_74.docx', 'report_111.docx', 'report_106.docx', 'report_125.docx', 'report_43.docx', 'report_33.docx', 'report_52.docx', 'report_132.docx', 'report_100.docx', 'report_11.docx', 'report_21.docx', 'report_113.docx', 'report_103.docx', 'report_10.docx', 'report_60.docx', 'report_112.docx', 'report_123.docx', 'report_87.docx', 'report_126.docx', 'report_23.docx', 'report_114.docx', 'report_110.docx', 'report_38.docx', 'report_79.docx', 'report_134.docx', 'report_34.docx', 'report_48.docx', 'report_102.docx', 'report_32.docx'] \n",
            " ['report_89.pdf', 'report_75.pdf', 'report_119.pdf', 'report_108.pdf', 'report_19.pdf', 'report_73.pdf', 'report_78.pdf', 'report_52.pdf', 'report_50.pdf', 'report_28.pdf', 'report_17.pdf', 'report_54.pdf', 'report_26.pdf', 'report_96.pdf', 'report_128.pdf', 'report_5.pdf', 'report_109.pdf', 'report_111.pdf', 'report_130.pdf', 'report_48.pdf', 'report_122.pdf', 'report_100.pdf', 'report_105.pdf', 'report_113.pdf', 'report_69.pdf', 'report_81.pdf', 'report_88.pdf', 'report_24.pdf', 'report_114.pdf', 'report_45.pdf', 'report_6.pdf', 'report_33.pdf', 'report_117.pdf', 'report_27.pdf', 'report_110.pdf', 'report_4.pdf', 'report_91.pdf', 'report_132.pdf', 'report_103.pdf', 'report_123.pdf', 'report_13.pdf', 'report_10.pdf', 'report_36.pdf', 'report_12.pdf', 'report_30.pdf', 'report_98.pdf', 'report_133.pdf', 'report_1.pdf', 'report_80.pdf', 'report_120.pdf', 'report_51.pdf', 'report_41.pdf', 'report_59.pdf', 'report_127.pdf', 'report_86.pdf', 'report_93.pdf', 'report_97.pdf', 'report_63.pdf', 'report_32.pdf', 'report_95.pdf', 'report_62.pdf', 'report_18.pdf', 'report_99.pdf', 'report_25.pdf', 'report_2.pdf', 'report_107.pdf', 'report_40.pdf', 'report_134.pdf', 'report_121.pdf', 'report_43.pdf', 'report_106.pdf', 'report_65.pdf', 'report_14.pdf', 'report_101.pdf', 'report_87.pdf', 'report_94.pdf', 'report_11.pdf', 'report_116.pdf', 'report_16.pdf', 'report_71.pdf', 'report_61.pdf', 'report_64.pdf', 'report_58.pdf', 'report_38.pdf', 'report_35.pdf', 'report_125.pdf', 'report_23.pdf', 'report_53.pdf', 'report_31.pdf', 'report_42.pdf', 'report_68.pdf', 'report_46.pdf', 'report_124.pdf', 'report_79.pdf', 'report_0.pdf', 'report_47.pdf', 'report_34.pdf', 'report_72.pdf', 'report_39.pdf', 'report_44.pdf'] \n",
            " ['Supplementary_data_R24.csv', 'Supplementary_data_R31.csv', 'Supplementary_data_R122.csv', 'Supplementary_data_R37.csv', 'Supplementary_data_R51.csv', 'Supplementary_data_R27.csv', 'Supplementary_data_R100.csv', 'Supplementary_data_R123.csv', 'Supplementary_data_R65.csv', 'Supplementary_data_R54.csv', 'Supplementary_data_R16.csv', 'Supplementary_data_R83.csv', 'Supplementary_data_R130.csv', 'Supplementary_data_R8.csv', 'Supplementary_data_R131.csv', 'Supplementary_data_R0.csv', 'Supplementary_data_R99.csv', 'Supplementary_data_R78.csv', 'Supplementary_data_R35.csv', 'Supplementary_data_R86.csv', 'Supplementary_data_R74.csv', 'Supplementary_data_R112.csv', 'Supplementary_data_R126.csv', 'Supplementary_data_R46.csv', 'Supplementary_data_R84.csv', 'Supplementary_data_R82.csv', 'Supplementary_data_R98.csv', 'Supplementary_data_R106.csv', 'Supplementary_data_R2.csv', 'Supplementary_data_R96.csv', 'Supplementary_data_R68.csv', 'Supplementary_data_R92.csv', 'Supplementary_data_R40.csv', 'Supplementary_data_R110.csv', 'Supplementary_data_R53.csv', 'Supplementary_data_R102.csv', 'Supplementary_data_R108.csv', 'Supplementary_data_R34.csv', 'Supplementary_data_R10.csv', 'Supplementary_data_R22.csv', 'Supplementary_data_R18.csv', 'Supplementary_data_R77.csv', 'Supplementary_data_R43.csv', 'Supplementary_data_R75.csv', 'Supplementary_data_R119.csv', 'Supplementary_data_R71.csv', 'Supplementary_data_R132.csv', 'Supplementary_data_R58.csv', 'Supplementary_data_R111.csv', 'Supplementary_data_R134.csv', 'Supplementary_data_R11.csv', 'Supplementary_data_R124.csv', 'Supplementary_data_R59.csv', 'Supplementary_data_R80.csv', 'Supplementary_data_R125.csv', 'Supplementary_data_R109.csv', 'Supplementary_data_R107.csv', 'Supplementary_data_R56.csv', 'Supplementary_data_R87.csv', 'Supplementary_data_R45.csv', 'Supplementary_data_R30.csv', 'Supplementary_data_R69.csv', 'Supplementary_data_R104.csv', 'Supplementary_data_R94.csv', 'Supplementary_data_R66.csv', 'Supplementary_data_R129.csv', 'Supplementary_data_R63.csv', 'Supplementary_data_R91.csv', 'Supplementary_data_R20.csv', 'Supplementary_data_R42.csv', 'Supplementary_data_R121.csv', 'Supplementary_data_R113.csv', 'Supplementary_data_R3.csv', 'Supplementary_data_R41.csv', 'Supplementary_data_R103.csv', 'Supplementary_data_R49.csv', 'Supplementary_data_R133.csv', 'Supplementary_data_R21.csv', 'Supplementary_data_R1.csv', 'Supplementary_data_R88.csv', 'Supplementary_data_R120.csv', 'Supplementary_data_R44.csv', 'Supplementary_data_R32.csv', 'Supplementary_data_R95.csv', 'Supplementary_data_R81.csv', 'Supplementary_data_R73.csv', 'Supplementary_data_R14.csv', 'Supplementary_data_R47.csv', 'Supplementary_data_R26.csv', 'Supplementary_data_R61.csv', 'Supplementary_data_R39.csv', 'Supplementary_data_R127.csv', 'Supplementary_data_R62.csv', 'Supplementary_data_R5.csv', 'Supplementary_data_R25.csv', 'Supplementary_data_R115.csv', 'Supplementary_data_R93.csv', 'Supplementary_data_R17.csv', 'Supplementary_data_R38.csv', 'Supplementary_data_R4.csv', 'Supplementary_data_R101.csv', 'Supplementary_data_R105.csv', 'Supplementary_data_R128.csv']\n"
          ]
        }
      ]
    },
    {
      "cell_type": "markdown",
      "id": "a5c0b01a",
      "metadata": {
        "id": "a5c0b01a"
      },
      "source": [
        "---\n",
        "## Part III:  Patterns Recognition (Computational Thinking)\n",
        "What was the block of code that you used more than once in the previous step?\n",
        "\n",
        "Notice the recurring steps:\n",
        "- Iterate over a list of files.\n",
        "- Check if each file has a specific extension.\n",
        "- Add the files with specific extension to a list.\n",
        "\n",
        "If you have 10 different file extensions to count, how many times do you need to repeat that block of code?\n",
        "\n",
        "Rather than writing separate code for each file type, define a function that takes the list of all files and\n",
        "the file extension and returns the list of files with that extension. This approach makes the process reusable.\n",
        "\n",
        "> **Example:**\n",
        "  ```\n",
        "  def say_hello():\n",
        "      print(\"Hello, World!\")\n",
        "  ```\n",
        "\n",
        "> **Note:**<br>\n",
        " We could also create these lists using an `if/elif` statement, but to practice writing functions and improve modularity, we will define a function instead."
      ]
    },
    {
      "cell_type": "markdown",
      "source": [
        "### **❗️ TRY IT OUT ❗️**\n",
        "Using functions helps avoid repetition and makes the code easier to modify if new file types need to be checked. Review the function below. Based on the function syntax, call the function and store the results for docx, pdf, and csv files in the provided variables."
      ],
      "metadata": {
        "id": "_jEGtbC5F4Op"
      },
      "id": "_jEGtbC5F4Op"
    },
    {
      "cell_type": "code",
      "execution_count": null,
      "id": "1fcccc7c",
      "metadata": {
        "id": "1fcccc7c",
        "colab": {
          "base_uri": "https://localhost:8080/"
        },
        "outputId": "7acc74e2-cd63-4396-bdf6-cbff905f1d78"
      },
      "outputs": [
        {
          "output_type": "stream",
          "name": "stdout",
          "text": [
            "Number of .docx files: 135\n",
            "Number of .pdf files: 100\n",
            "Number of .csv files: 103\n"
          ]
        }
      ],
      "source": [
        "def get_files_by_extension(files_lst: list[str], extension: str):\n",
        "    \"\"\"Returns a list of files that match the given extension.\"\"\"\n",
        "    f_ext_list = []\n",
        "    for file in files_lst:\n",
        "        if file.endswith(extension):\n",
        "            f_ext_list.append(file)\n",
        "    return f_ext_list\n",
        "\n",
        "# List of all files in the directory\n",
        "files = os.listdir(\"report_files/\")\n",
        "\n",
        "# Get the list of files by extension\n",
        "docx_files_func =   get_files_by_extension(files, \".docx\")\n",
        "pdf_files_func  =   get_files_by_extension(files, \".pdf\")\n",
        "csv_files_func  =   get_files_by_extension(files, \".csv\")\n",
        "\n",
        "# Print the counts\n",
        "print(\"Number of .docx files:\", len(docx_files))\n",
        "print(\"Number of .pdf files:\", len(pdf_files_func))\n",
        "print(\"Number of .csv files:\", len(csv_files_func))"
      ]
    },
    {
      "cell_type": "markdown",
      "id": "ba8150db",
      "metadata": {
        "id": "ba8150db"
      },
      "source": [
        "## Part IV: Identify Missing `.pdf` and `.csv` Files\n",
        "Now that we have lists of `.docx`, `.pdf`, and `.csv` files, let's check which reports are missing their required counterparts.  In this part, we will extract report numbers from the `docx` files, check if corresponding `pdf` files exist, check if corresponding `csv` files exist, then count and report the missing files.\n",
        "\n"
      ]
    },
    {
      "cell_type": "markdown",
      "source": [
        "### Step 1: Breaking Down the Problem:\n",
        "Before we can check for missing files, we need to extract the report numbers from our `.docx` filenames.  We do that using string splitting.\n",
        "\n",
        "**How string splitting works:**\n",
        "- `\"report_5.docx\".split(\"_\")` returns `[\"report\", \"5.docx\"]`\n",
        "- We take the second part (`\"5.docx\"`) and remove `.docx` to get just the number\n",
        "\n",
        "Let's extract all report numbers:\n",
        "- Every `report_<number>.docx` should have:\n",
        "  - A corresponding `report_<number>.pdf`.\n",
        "  - A corresponding `Supplementary_data_R<number>.csv`."
      ],
      "metadata": {
        "id": "B_fFYLjDKbGE"
      },
      "id": "B_fFYLjDKbGE"
    },
    {
      "cell_type": "markdown",
      "source": [
        "### **❗️ TRY IT OUT ❗️**\n",
        "Run the code below to view the output of the string splitting for the docx files."
      ],
      "metadata": {
        "id": "NJ6J8Hi_Jq3o"
      },
      "id": "NJ6J8Hi_Jq3o"
    },
    {
      "cell_type": "code",
      "source": [
        "# Create an empty list to store report numbers\n",
        "docx_report_numbers = []\n",
        "\n",
        "# Extract report numbers from the .docx filenames\n",
        "for file in docx_files_func:\n",
        "    # Split the filename at the underscore\n",
        "    parts = file.split(\"_\")\n",
        "\n",
        "    # Check if the filename matches our expected pattern\n",
        "    if len(parts) == 2 and parts[0] == \"report\":\n",
        "        # Remove .docx extension to get just the number\n",
        "        report_number = parts[1].replace(\".docx\", \"\")\n",
        "        docx_report_numbers.append(report_number)\n",
        "    else:\n",
        "        print(f'{file} does not match the pattern!')\n",
        "\n",
        "print(f\"Found {len(docx_report_numbers)} report numbers:\")\n",
        "print(docx_report_numbers)"
      ],
      "metadata": {
        "id": "LWZkiXKpK6lY",
        "colab": {
          "base_uri": "https://localhost:8080/"
        },
        "outputId": "f68c3f6c-3fa3-4f9d-e3aa-70e1b3b5c96e"
      },
      "id": "LWZkiXKpK6lY",
      "execution_count": null,
      "outputs": [
        {
          "output_type": "stream",
          "name": "stdout",
          "text": [
            "Found 135 report numbers:\n",
            "['128', '116', '97', '7', '49', '93', '99', '65', '69', '94', '66', '17', '107', '92', '46', '63', '9', '108', '18', '41', '119', '53', '6', '14', '109', '105', '47', '130', '122', '36', '91', '129', '12', '77', '72', '22', '75', '81', '133', '67', '90', '95', '96', '98', '20', '57', '2', '85', '58', '127', '37', '27', '13', '89', '78', '84', '86', '59', '131', '35', '115', '83', '56', '8', '70', '16', '50', '28', '31', '0', '80', '44', '68', '120', '15', '25', '124', '40', '82', '54', '64', '42', '76', '1', '121', '24', '117', '104', '3', '62', '19', '29', '4', '26', '88', '61', '51', '71', '73', '5', '118', '55', '39', '101', '45', '30', '74', '111', '106', '125', '43', '33', '52', '132', '100', '11', '21', '113', '103', '10', '60', '112', '123', '87', '126', '23', '114', '110', '38', '79', '134', '34', '48', '102', '32']\n"
          ]
        }
      ]
    },
    {
      "cell_type": "markdown",
      "source": [
        "### Step 2: Count and Report Missing Files\n",
        "\n",
        "Now we'll check if each report has its corresponding PDF file. We'll:\n",
        "1. Create the expected PDF filename using the report number\n",
        "2. Check if that filename exists in our PDF files list\n",
        "3. Keep track of any missing files"
      ],
      "metadata": {
        "id": "19nx_P1DLW1d"
      },
      "id": "19nx_P1DLW1d"
    },
    {
      "cell_type": "markdown",
      "source": [
        "### **❗️ TRY IT OUT ❗️**\n",
        "Run the code below to identify missing PDF files."
      ],
      "metadata": {
        "id": "pH55spNqLg7C"
      },
      "id": "pH55spNqLg7C"
    },
    {
      "cell_type": "code",
      "source": [
        "# Initialize counters and storage for missing files\n",
        "num_missing_pdfs = 0\n",
        "missing_pdfs = []\n",
        "\n",
        "# Check each report number for corresponding PDF\n",
        "for number in docx_report_numbers:\n",
        "    # Create the expected PDF filename\n",
        "    pdf_name = f\"report_{number}.pdf\"\n",
        "\n",
        "    # Check if this PDF exists in our pdf_files list\n",
        "    if pdf_name not in pdf_files:\n",
        "        missing_pdfs.append(pdf_name)\n",
        "        num_missing_pdfs += 1\n",
        "\n",
        "print(f\"Number of missing .pdf files: {num_missing_pdfs}\")\n",
        "if missing_pdfs:\n",
        "    print(\"Missing PDF files:\")\n",
        "    for pdf in missing_pdfs:\n",
        "        print(f\"  - {pdf}\")"
      ],
      "metadata": {
        "id": "D2NpSmWCLpkK",
        "colab": {
          "base_uri": "https://localhost:8080/"
        },
        "outputId": "1c0f7633-f241-4068-96dc-5c100a3c9869"
      },
      "id": "D2NpSmWCLpkK",
      "execution_count": null,
      "outputs": [
        {
          "output_type": "stream",
          "name": "stdout",
          "text": [
            "Number of missing .pdf files: 35\n",
            "Missing PDF files:\n",
            "  - report_7.pdf\n",
            "  - report_49.pdf\n",
            "  - report_66.pdf\n",
            "  - report_92.pdf\n",
            "  - report_9.pdf\n",
            "  - report_129.pdf\n",
            "  - report_77.pdf\n",
            "  - report_22.pdf\n",
            "  - report_67.pdf\n",
            "  - report_90.pdf\n",
            "  - report_20.pdf\n",
            "  - report_57.pdf\n",
            "  - report_85.pdf\n",
            "  - report_37.pdf\n",
            "  - report_84.pdf\n",
            "  - report_131.pdf\n",
            "  - report_115.pdf\n",
            "  - report_83.pdf\n",
            "  - report_56.pdf\n",
            "  - report_8.pdf\n",
            "  - report_70.pdf\n",
            "  - report_15.pdf\n",
            "  - report_82.pdf\n",
            "  - report_76.pdf\n",
            "  - report_104.pdf\n",
            "  - report_3.pdf\n",
            "  - report_29.pdf\n",
            "  - report_118.pdf\n",
            "  - report_55.pdf\n",
            "  - report_74.pdf\n",
            "  - report_21.pdf\n",
            "  - report_60.pdf\n",
            "  - report_112.pdf\n",
            "  - report_126.pdf\n",
            "  - report_102.pdf\n"
          ]
        }
      ]
    },
    {
      "cell_type": "markdown",
      "source": [
        "### Step 3: Check for Missing CSV Files\n",
        "\n",
        "Now let's do the same check for CSV files. Remember that CSV files follow the pattern: `Supplementary_data_R<number>.csv`"
      ],
      "metadata": {
        "id": "YSp1RUqTL2lO"
      },
      "id": "YSp1RUqTL2lO"
    },
    {
      "cell_type": "markdown",
      "source": [
        "### **❗️ TRY IT OUT ❗️**\n",
        "Edit the code cell below to find missing CSV files.  To do this, refer to the comments for hints and follow the same logic we applied to the PDFs."
      ],
      "metadata": {
        "id": "t_e-Bj6KL76q"
      },
      "id": "t_e-Bj6KL76q"
    },
    {
      "cell_type": "code",
      "execution_count": null,
      "id": "9c3fb966",
      "metadata": {
        "id": "9c3fb966",
        "colab": {
          "base_uri": "https://localhost:8080/"
        },
        "outputId": "69d10a0c-54d1-40a4-ddc8-096415d13878"
      },
      "outputs": [
        {
          "output_type": "stream",
          "name": "stdout",
          "text": [
            "Number of missing .csv files: 32\n",
            "Missing CSV files:\n",
            "  - Supplementary_data_R116.csv\n",
            "  - Supplementary_data_R97.csv\n",
            "  - Supplementary_data_R7.csv\n",
            "  - Supplementary_data_R9.csv\n",
            "  - Supplementary_data_R6.csv\n",
            "  - Supplementary_data_R36.csv\n",
            "  - Supplementary_data_R12.csv\n",
            "  - Supplementary_data_R72.csv\n",
            "  - Supplementary_data_R67.csv\n",
            "  - Supplementary_data_R90.csv\n",
            "  - Supplementary_data_R57.csv\n",
            "  - Supplementary_data_R85.csv\n",
            "  - Supplementary_data_R13.csv\n",
            "  - Supplementary_data_R89.csv\n",
            "  - Supplementary_data_R70.csv\n",
            "  - Supplementary_data_R50.csv\n",
            "  - Supplementary_data_R28.csv\n",
            "  - Supplementary_data_R15.csv\n",
            "  - Supplementary_data_R64.csv\n",
            "  - Supplementary_data_R76.csv\n",
            "  - Supplementary_data_R117.csv\n",
            "  - Supplementary_data_R19.csv\n",
            "  - Supplementary_data_R29.csv\n",
            "  - Supplementary_data_R118.csv\n",
            "  - Supplementary_data_R55.csv\n",
            "  - Supplementary_data_R33.csv\n",
            "  - Supplementary_data_R52.csv\n",
            "  - Supplementary_data_R60.csv\n",
            "  - Supplementary_data_R23.csv\n",
            "  - Supplementary_data_R114.csv\n",
            "  - Supplementary_data_R79.csv\n",
            "  - Supplementary_data_R48.csv\n"
          ]
        }
      ],
      "source": [
        "# Initialize counters and storage for missing CSV files\n",
        "num_missing_csvs = 0\n",
        "missing_csvs = []\n",
        "\n",
        "# TODO: Complete this code following the PDF example above\n",
        "for number in docx_report_numbers:\n",
        "    # Create the expected CSV filename (hint: use the pattern Supplementary_data_R<number>.csv)\n",
        "    csv_name = f\"Supplementary_data_R{number}.csv\"  # Fill this in\n",
        "\n",
        "    # Check if this CSV exists in our csv_files list\n",
        "    if csv_name not in csv_files:\n",
        "        # Add to missing list and increment counter\n",
        "        missing_csvs.append(csv_name)\n",
        "        num_missing_csvs += 1\n",
        "        pass\n",
        "\n",
        "print(f\"Number of missing .csv files: {num_missing_csvs}\")\n",
        "if missing_csvs:\n",
        "    print(\"Missing CSV files:\")\n",
        "    for csv in missing_csvs:\n",
        "        print(f\"  - {csv}\")"
      ]
    },
    {
      "cell_type": "markdown",
      "id": "b3afcef4",
      "metadata": {
        "id": "b3afcef4"
      },
      "source": [
        "---\n",
        "\n",
        "## Part V. Write Missing File Reports to CSVs\n",
        "Now that we have identified the missing `.pdf` and `.csv` files, we need to save the results in a structured report.\n",
        "Instead of saving the report directly in the main directory, we will **create a new folder** to store the report.\n",
        "\n",
        "###Step 1: Create a Folder to Store Reports  \n",
        "We will start this process by creating a folder to store the report file which will...\n",
        "- Keep the reports **organized** and separate from the dataset files.\n",
        "- Make it easier to **manage multiple reports** over time.\n",
        "- Avoid clutter in the **main directory**.\n",
        "\n",
        ">  **How to Create a Folder in Python** <br>\n",
        "In Python, you can create a new folder using the `os.makedirs()` function.\n",
        "This function ensures that the folder exists before attempting to write files into it.\n",
        "If the folder already exists, it does **not** create a duplicate or raise an error.\n",
        "\n",
        "> **How `os.makedirs()` Works:**\n",
        "- If `missing_reports/` does **not** exist, it **creates** the folder.\n",
        "- If `missing_reports/` folder **already exists**, the function does **nothing** because of the `exist_ok=True` argument.\n",
        "- Unlike `os.mkdir()`, which only creates a single-level directory, `os.makedirs()` can also create **nested directories** if needed.\n",
        "\n",
        "This ensures that when we later save the CSV report, the folder is available and ready.\n"
      ]
    },
    {
      "cell_type": "markdown",
      "source": [
        "### **❗️ TRY IT OUT ❗️**\n",
        "Run the code cell below to create an new directory called \"`missing_reports`\""
      ],
      "metadata": {
        "id": "RDqiMKFAM7HH"
      },
      "id": "RDqiMKFAM7HH"
    },
    {
      "cell_type": "code",
      "execution_count": null,
      "id": "262259b6",
      "metadata": {
        "id": "262259b6"
      },
      "outputs": [],
      "source": [
        "# Define the folder name\n",
        "report_folder = \"missing_reports\"\n",
        "\n",
        "# Create the folder if it does not exist\n",
        "os.makedirs(report_folder, exist_ok=True)"
      ]
    },
    {
      "cell_type": "markdown",
      "id": "da0c1fa3",
      "metadata": {
        "id": "da0c1fa3"
      },
      "source": [
        "### Step 2: Write Missing File Reports to CSVs  \n",
        "The missing file data will be **saved to two CSV files** for documentation and further analysis.\n",
        "\n",
        "Before we create our reports, let's understand the key components of writing CSV files in Python:\n",
        "\n",
        "**Key concepts:**\n",
        "- `csv.writer()` - Creates an object that can write rows to a CSV file\n",
        "- `writer.writerow([data])` - Writes a single row (list of values) to the file\n",
        "- `mode=\"w\"` - Opens file in write mode (overwrites existing file)\n",
        "- `newline=\"\"` - Prevents extra blank lines in the CSV file\n",
        "\n",
        "**File structure we'll create:**\n",
        "```\n",
        "  missing_reports/\n",
        "    missing_files_count.csv # Summary counts\n",
        "    missing_files_list.csv # Detailed list\n",
        "\n",
        "```"
      ]
    },
    {
      "cell_type": "markdown",
      "source": [
        "### Step 3: Create Summary Count\n",
        "First, let's create a simple summary showing how many files are missing by type. This gives us a quick overview of the scope of missing files.\n"
      ],
      "metadata": {
        "id": "-tJrAjG2QntF"
      },
      "id": "-tJrAjG2QntF"
    },
    {
      "cell_type": "markdown",
      "source": [
        "### **❗️ TRY IT OUT ❗️**\n",
        "Run the code cell below to create a new csv containing the report"
      ],
      "metadata": {
        "id": "_AbxhQkzRKaF"
      },
      "id": "_AbxhQkzRKaF"
    },
    {
      "cell_type": "code",
      "execution_count": null,
      "id": "98365ca4",
      "metadata": {
        "id": "98365ca4",
        "colab": {
          "base_uri": "https://localhost:8080/"
        },
        "outputId": "84d997cd-de7d-4992-9c6b-bebda704fc6f"
      },
      "outputs": [
        {
          "output_type": "stream",
          "name": "stdout",
          "text": [
            "Missing file count report saved to: missing_reports/missing_files_count.csv\n"
          ]
        }
      ],
      "source": [
        "import csv\n",
        "\n",
        "# Define the file path for the report\n",
        "missing_count_csv_path = report_folder + \"/\" + \"missing_files_count.csv\"\n",
        "\n",
        "# Write missing file counts\n",
        "with open(missing_count_csv_path, mode=\"w\", newline=\"\") as csvfile:\n",
        "    writer = csv.writer(csvfile)\n",
        "\n",
        "    # Write header row\n",
        "    writer.writerow([\"File Type\", \"Count\"])\n",
        "\n",
        "    # Write total count rows\n",
        "    writer.writerow([\"PDF\", num_missing_pdfs])\n",
        "    writer.writerow([\"CSV\", num_missing_csvs])\n",
        "\n",
        "print(\"Missing file count report saved to:\", missing_count_csv_path)"
      ]
    },
    {
      "cell_type": "markdown",
      "source": [
        "### Step 4: Create Detailed List Report\n",
        "Now let's create a detailed report that lists the actual filename of each missing file. This is more actionable - someone can use this list to create or locate the missing files.\n"
      ],
      "metadata": {
        "id": "Uvb7LnwBRZSd"
      },
      "id": "Uvb7LnwBRZSd"
    },
    {
      "cell_type": "markdown",
      "source": [
        "### **❗️ TRY IT OUT ❗️**\n",
        "Run the code cell below to create a new csv containing the report."
      ],
      "metadata": {
        "id": "qh2v_0GaRoyW"
      },
      "id": "qh2v_0GaRoyW"
    },
    {
      "cell_type": "code",
      "execution_count": null,
      "id": "6f1b42d2",
      "metadata": {
        "id": "6f1b42d2",
        "colab": {
          "base_uri": "https://localhost:8080/"
        },
        "outputId": "9d22b1b8-0691-4181-ea58-89f41632a26d"
      },
      "outputs": [
        {
          "output_type": "stream",
          "name": "stdout",
          "text": [
            "Missing file list saved to: missing_reports/missing_files_list.csv\n"
          ]
        }
      ],
      "source": [
        "import csv # wasn't imported beforehand\n",
        "\n",
        "# Define the file path\n",
        "missing_names_csv_path = report_folder + \"/\" + \"missing_files_list.csv\"\n",
        "\n",
        "# Write missing file names\n",
        "with open(missing_names_csv_path, mode=\"w\", newline=\"\") as csvfile:\n",
        "    #define our writer, this will be used to write rows into our csv file\n",
        "    writer = csv.writer(csvfile)\n",
        "\n",
        "    # Write header\n",
        "    writer.writerow([\"File Type\", \"Missing File Name\"])\n",
        "\n",
        "    # Write missing PDFs\n",
        "    for pdf in missing_pdfs:\n",
        "        writer.writerow([\"PDF\", pdf])\n",
        "\n",
        "    # Write missing CSVs\n",
        "    for csv in missing_csvs:\n",
        "        writer.writerow([\"CSV\", csv])\n",
        "\n",
        "print(\"Missing file list saved to:\", missing_names_csv_path)"
      ]
    },
    {
      "cell_type": "markdown",
      "id": "f1979712",
      "metadata": {
        "id": "f1979712"
      },
      "source": [
        "\n",
        "\n",
        "---\n",
        "\n",
        "## **Deliverables**\n",
        "You should complete all \"Try it Out\" sections of this lab. When you are done with this notebook, simply save your work, return to the Google Assignments page via the link in Assignments in bCourses and hit \"Submit\".\n",
        "\n",
        "### Your code should:\n",
        "   - Print:\n",
        "     - Total number of `.docx`, `.pdf`, and `.csv` files.\n",
        "     - Number of `.docx` files missing `.pdf` and/or `.csv` files.\n",
        "   - Save missing file reports in the `missing_reports/` folder:\n",
        "     - **`missing_files_count.csv`** – Number of missing files per type.\n",
        "     - **`missing_files_list.csv`** – Names of missing `.pdf` and `.csv` files.\n",
        "\n",
        "---\n",
        "\n",
        "\n",
        "## **Hints**\n",
        "- Use **sets** for efficient file comparison.\n",
        "- Write modular functions for reusability.\n",
        "\n",
        "Good luck!\n"
      ]
    }
  ],
  "metadata": {
    "colab": {
      "provenance": []
    },
    "language_info": {
      "name": "python"
    },
    "kernelspec": {
      "name": "python3",
      "display_name": "Python 3"
    }
  },
  "nbformat": 4,
  "nbformat_minor": 5
}
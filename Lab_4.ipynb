{
  "cells": [
    {
      "cell_type": "markdown",
      "source": [
        "# CYPLAN101 Fall 2025 - Lab 4: ACS Data Exploration with Python\n",
        "\n",
        "## Learning Objectives:\n",
        "* Define U.S. Census and ACS data sources\n",
        "* Compare decennial census with ACS estimates and identify strengths and limitations\n",
        "* Identify spatial extent of census data\n",
        "* Discuss similarities and differences between federal data schemas\n",
        "* Outline and apply tools that enable access and application of Census Data\n",
        "\n",
        "---"
      ],
      "metadata": {
        "id": "bn33zmIKk1nv"
      },
      "id": "bn33zmIKk1nv"
    },
    {
      "cell_type": "markdown",
      "metadata": {
        "id": "49Y6Awz5o6-V"
      },
      "source": [
        "## Part I. Why Geography Matters\n",
        "\n",
        "- Geography shapes how the U.S. Census Bureau samples and aggregates data.\n",
        "- **Geography ≠ visualization only**: it's embedded in data collection, sampling units, and margin-of-error computation.\n",
        "- Example of misunderstanding: comparing population estimates without aligning geographic levels."
      ],
      "id": "49Y6Awz5o6-V"
    },
    {
      "cell_type": "markdown",
      "metadata": {
        "id": "H10eB9m4o6-W"
      },
      "source": [
        "### Geographic Hierarchy of the U.S. Census\n",
        "\n",
        "- Geographic areas are organized in a geographic hierarchy.\n",
        "\n",
        "- Larger units, like states, include smaller units, like counties and census tracts.\n",
        "\n",
        "- This structure is derived from the legal, administrative, or areal relationships of the entities.\n",
        "\n",
        "<img src=\"https://www.census.gov/programs-surveys/acs/geography-acs/concepts-definitions/_jcr_content/root/responsivegrid/expcolaccordioncore209/section_1/imagecore.coreimg.jpeg/1678878894635/acs-geographic-hierarchy.jpeg\" style=\"height:500px\" />\n",
        "\n",
        "<p>Image source: Census.org</p>\n",
        "\n",
        "<!-- - Nation → State → County → Place (City) → [Zip Code Tabulation Area (ZCTA)](https://www.census.gov/programs-surveys/geography/guidance/geo-areas/zctas.html) → Tract → Block Group -->\n",
        "- Tracts: ~4,000 people; Block Groups: ~1,500\n",
        "- **Note**: ACS does not publish at the *block* level.\n",
        "- Explore glossary: [Census Glossary](https://www.census.gov/programs-surveys/geography/about/glossary.html)\n",
        "\n",
        "\n",
        "### FIPS Codes (Federal Information Processing Series)\n",
        "\n",
        "The Census Bureau has used **FIPS codes** for over 30 years. These are standardized numeric codes used to identify political and statistical areas such as:\n",
        "\n",
        "* States\n",
        "* Counties\n",
        "* Cities and towns\n",
        "* Native American areas\n",
        "---\n"
      ],
      "id": "H10eB9m4o6-W"
    },
    {
      "cell_type": "markdown",
      "source": [
        "## ❗️ Try it Out ❗️\n",
        "FIPS codes are usually **assigned alphabetically** within each level of geography. Importantly, they’re **nested**—for example:\n",
        "\n",
        "* Texas has a state FIPS code of `48`\n",
        "* Harris County within Texas has a county FIPS of `201`\n",
        "* So Harris County's full FIPS code is `48201`\n",
        "\n",
        "This nesting ensures each code is **unique nationwide**.\n",
        "\n",
        "## Step 1 - Navigate to Census Geocoder Tool\n",
        "Navigate to the following link:  [https://geocoding.geo.census.gov/geocoder/geographies/onelineaddress?form](https://geocoding.geo.census.gov/geocoder/geographies/onelineaddress?form)\n",
        "\n",
        "## Step 2 - Type in an address\n",
        "Retain default values for benchmark and vintage.\n",
        "\n",
        "## Step 3 - Enter in the GEOID and the expected FIPS code for the **TRACT** in the code cell below\n",
        "Formatting instructions are included in the comments.\n"
      ],
      "metadata": {
        "id": "SITLLo5PnqNT"
      },
      "id": "SITLLo5PnqNT"
    },
    {
      "cell_type": "code",
      "source": [
        "# A. Based on the tabular data returned for the address you inputted, what is the expected FIPs Code?\n",
        "state_code = \"06\"\n",
        "county_code = \"001\"\n",
        "tract_code = \"423602\"\n",
        "\n",
        "# The GEOID is the complete FIPS code (concatenation of state + county + tract)\n",
        "fips_code = state_code + county_code + tract_code\n",
        "\n",
        "# Printing your FIPS Code\n",
        "print(f\"FIPS Code Breakdown:\")\n",
        "print(f\"  State Code (2 digits): {state_code}\")\n",
        "print(f\"  County Code (3 digits): {county_code}\")\n",
        "print(f\"  Tract Code (6 digits): {tract_code}\")\n",
        "print(f\"  Complete FIPS Code (11 digits): {fips_code}\")\n",
        "\n",
        "\n",
        "# B. Based on the tabular data returned for the address you inputted, what GEOID is associated with the address?\n",
        "my_GEOID = \"06001423602\"\n",
        "\n",
        "print(f\"The GEOID for my inputted address is: {my_GEOID}\")\n",
        "print(f\"Are the GEOID and complete FIS Code the same? {my_GEOID == fips_code}\")\n"
      ],
      "metadata": {
        "id": "aDBtka8voeJQ",
        "colab": {
          "base_uri": "https://localhost:8080/"
        },
        "outputId": "ec51a688-4660-48f6-f581-ccf89b37a0b6"
      },
      "id": "aDBtka8voeJQ",
      "execution_count": null,
      "outputs": [
        {
          "output_type": "stream",
          "name": "stdout",
          "text": [
            "FIPS Code Breakdown:\n",
            "  State Code (2 digits): 06\n",
            "  County Code (3 digits): 001\n",
            "  Tract Code (6 digits): 423602\n",
            "  Complete FIPS Code (11 digits): 06001423602\n",
            "The GEOID for my inputted address is: 06001423602\n",
            "Are the GEOID and complete FIS Code the same? True\n"
          ]
        }
      ]
    },
    {
      "cell_type": "markdown",
      "id": "0b915f56",
      "metadata": {
        "id": "0b915f56"
      },
      "source": [
        "---\n",
        "### Geographic Identifiers (GEOIDs)\n",
        "\n",
        "\n",
        "To work with U.S. Census and survey data, we need a way to *consistently identify places*. That’s where **GEOIDs** (Geographic Identifiers) come in.\n",
        "\n",
        "GEOIDs are numeric codes that uniquely identify all administrative/legal and statistical geographic areas for which the Census Bureau tabulates data.\n",
        "\n",
        "They are unique codes used to link demographic data to specific locations like states, counties, cities, or even blocks.\n",
        "\n",
        "These codes are maintained by different organizations, including:\n",
        "\n",
        "* The **U.S. Census Bureau**\n",
        "* The **American National Standards Institute (ANSI)**\n",
        "* The **U.S. Geological Survey (USGS)**\n",
        "* The **Department of Education**\n",
        "* Individual **state governments**\n",
        "\n",
        "\n",
        "From Alaska, the largest state, to the smallest census block in New York City, every geographic area has a unique GEOID.\n",
        "\n",
        "Data users rely on GEOIDs to accurately **join** demographic data from sources like the American Community Survey (ACS) to different geographic areas for analysis, interpretation, and mapping. Without a shared identifier between geographic and demographic datasets, it becomes much harder to match the right data to the right place, slowing down analysis and increasing the risk of errors."
      ]
    },
    {
      "cell_type": "markdown",
      "id": "04b53e75",
      "metadata": {
        "id": "04b53e75"
      },
      "source": [
        "> #### Tip: GEOIDs != Geoid\n",
        "> There is a concept in GIS called **geoid**, for calculating surface elevation. [NOAA - Geoid](https://oceanservice.noaa.gov/facts/geoid.html). This has nothing to do with our GEOIDs!"
      ]
    },
    {
      "cell_type": "markdown",
      "id": "8fa6418b",
      "metadata": {
        "id": "8fa6418b"
      },
      "source": [
        "### Putting It Together: How GEOIDs Are Built\n",
        "\n",
        "GEOIDs often combine multiple codes to represent geographic nesting. For example:\n",
        "\n",
        "\n",
        "| Area Type          | GEOID Structure                | Example (Alameda County, CA) |\n",
        "| ------------------ | ------------------------------ | ---------------------------- |\n",
        "| State              | STATE (2 digits)               | `06`                         |\n",
        "| County             | STATE + COUNTY (2+3)           | `06001`                      |\n",
        "| Census Tract       | STATE + COUNTY + TRACT (2+3+6) | `06001400100`                |\n",
        "| Census Block Group | STATE + COUNTY + TRACT + BG    | `060014001001`               |\n",
        "\n",
        "**Breakdown**:\n",
        "\n",
        "* `06` = California\n",
        "* `001` = Alameda County\n",
        "* `400100` = Census Tract 4001.00 (in, e.g., Oakland)\n",
        "* `1` = Block Group 1 within that tract\n",
        "\n",
        "This hierarchical structure enables precise geographic targeting and seamless joining of tabular data with spatial data in GIS or data analysis tools.\n",
        "---"
      ]
    },
    {
      "cell_type": "markdown",
      "source": [
        "##❗️ Try it Out ❗️\n",
        "Here you will try downloading data from [data.census.gov](https://data.census.gov) and finding the GEOID in downloaded census data.\n",
        "\n",
        "## Step 1: Begin by searching for a geography using the basic search tool\n",
        "\n",
        "\n",
        "## Step 2: Locate a table of your choosing\n",
        "For example, you might look for the American Community Survey (ACS) Demographic and Housing Estimates (1-year) for Berkeley in 2023--thats table DP05 for reference.\n",
        "\n",
        "## Step 3: Download the corresponding data as a `.zip` with GEOIDS and use the code cell below to load it in using pandas.\n",
        "Remember you need to upload the file into Colab to do this.\n"
      ],
      "metadata": {
        "id": "sxVs1MZrx-s9"
      },
      "id": "sxVs1MZrx-s9"
    },
    {
      "cell_type": "code",
      "source": [
        "import pandas as pd\n",
        "\n",
        "# Read CSV file and skip the second row (contains variable descriptions)\n",
        "my_census_export = pd.read_csv('ACSDP1Y2024.DP05-Data.csv', skiprows=[1])\n",
        "\n",
        "# Display the first 5 rows\n",
        "print(my_census_export.head())"
      ],
      "metadata": {
        "id": "NRaodctqzmkp",
        "colab": {
          "base_uri": "https://localhost:8080/"
        },
        "outputId": "a2903f15-1791-43c0-a731-8e0cddaa7a9b"
      },
      "id": "NRaodctqzmkp",
      "execution_count": null,
      "outputs": [
        {
          "output_type": "stream",
          "name": "stdout",
          "text": [
            "           GEO_ID                             NAME  DP05_0001E DP05_0001M  \\\n",
            "0  0500000US45015  Berkeley County, South Carolina      264276      *****   \n",
            "\n",
            "   DP05_0002E  DP05_0002M  DP05_0003E  DP05_0003M  DP05_0004E  DP05_0004M  \\\n",
            "0      131083        1447      133193        1447        98.4         2.2   \n",
            "\n",
            "   ...  DP05_0104PM  DP05_0105PE  DP05_0105PM  DP05_0106PE  DP05_0106PM  \\\n",
            "0  ...          0.9          (X)          (X)       193732          (X)   \n",
            "\n",
            "   DP05_0107PE  DP05_0107PM  DP05_0108PE  DP05_0108PM  Unnamed: 434  \n",
            "0         48.8          0.6         51.2          0.6           NaN  \n",
            "\n",
            "[1 rows x 435 columns]\n"
          ]
        }
      ]
    },
    {
      "cell_type": "markdown",
      "source": [
        "##❗️ Try it Out (Cont'd.)❗️\n",
        "## Step 4: Break down those GEOIDs!\n",
        "Use the code cell below to print a breakdown of one of your table's GEOIDs.  \n",
        "\n",
        "You'll often see a column called `GEO.ID`. It contains a long identifier like:\n",
        "\n",
        "```\n",
        "0500000US06001\n",
        "```\n",
        "\n",
        "This code breaks down as follows:\n",
        "\n",
        "* `050` = Summary level (in this case, county)\n",
        "* `0000` = Geographic variant and component (often all zeroes for standard geographies)\n",
        "* `US` = United States\n",
        "* `06` = California (state FIPS)\n",
        "* `001` = Alameda County (county FIPS)\n",
        "\n",
        "So `0500000US06001` uniquely identifies Alameda County, CA in census tabular data. This GEOID matches the one used in TIGER/Line shapefiles, enabling clean joins between spatial and demographic data.\n",
        ">#### Tip: Why GEOIDs Matter\n",
        ">* GEOIDs allow us to match data to geography **accurately** and **efficiently**.\n",
        ">* They help avoid confusion when different datasets refer to the same places.\n",
        ">* They're essential for mapping, analysis, and policy-making across many domains—planning, education, environment, health, and more."
      ],
      "metadata": {
        "id": "8vF1RaY6zg-v"
      },
      "id": "8vF1RaY6zg-v"
    },
    {
      "cell_type": "code",
      "source": [
        "# Specify the row index you want to analyze\n",
        "row_index = 0  # Change this to the row you want to examine\n",
        "\n",
        "# Get the GEO_ID value (adjust column name if needed)\n",
        "geoid = my_census_export['GEO_ID'].iloc[row_index]\n",
        "\n",
        "print(f\"Full GEO_ID: {geoid}\")\n",
        "print(f\"Breakdown:\")\n",
        "print(f\"  Summary Level: {geoid[:3]}\")\n",
        "print(f\"  Geographic Variant: {geoid[3:7]}\")\n",
        "print(f\"  Country: {geoid[7:9]}\")\n",
        "print(f\"  State FIPS: {geoid[9:11]}\")\n",
        "print(f\"  County FIPS: {geoid[11:14]}\")"
      ],
      "metadata": {
        "id": "zyZWMX7p3aR1",
        "colab": {
          "base_uri": "https://localhost:8080/"
        },
        "outputId": "d1c66817-0ec5-4d8e-e6b0-93c9d0322882"
      },
      "id": "zyZWMX7p3aR1",
      "execution_count": null,
      "outputs": [
        {
          "output_type": "stream",
          "name": "stdout",
          "text": [
            "Full GEO_ID: 0500000US45015\n",
            "Breakdown:\n",
            "  Summary Level: 050\n",
            "  Geographic Variant: 0000\n",
            "  Country: US\n",
            "  State FIPS: 45\n",
            "  County FIPS: 015\n"
          ]
        }
      ]
    },
    {
      "cell_type": "markdown",
      "metadata": {
        "id": "L38NQzcLo6-Y"
      },
      "source": [
        "> Tip: Does the result of this code conform to the standard described above?  Are there missing characters?  How might this be resolved?\n",
        "---\n",
        "## Part II. ACS Products and Geography\n",
        "\n",
        "In this section we will load in census-related data using the census package.  We'll also introduce a few bonus tools.\n"
      ],
      "id": "L38NQzcLo6-Y"
    },
    {
      "cell_type": "markdown",
      "metadata": {
        "id": "zPNFKp2eo6-Y"
      },
      "source": [
        "> ### Understanding Vintages\n",
        "> - Boundary changes happen every decade (or more frequently).\n",
        "> - Use **Geocorr** to understand how 2010 vs 2020 tracts differ.\n",
        "> - Always check which year a 5-year ACS product refers to (it's the *last* year).\n",
        "> - Vintage example: 2021 ACS 5-year uses 2021 boundaries.\n",
        "> - [Vintage FAQ](https://www.census.gov/programs-surveys/geography/technical-documentation/vintage.html)\n",
        "\n",
        "---"
      ],
      "id": "zPNFKp2eo6-Y"
    },
    {
      "cell_type": "markdown",
      "source": [
        "## ❗️ Try it Out ❗️\n",
        "In this section we'll load in some census data using the census package.\n",
        "\n",
        "### Step 1: Package Install\n",
        "\n",
        "We begin by installing the required Python packages. You may run the following cell to install any packages not already available in your environment.  Follow the instructions below to do this.\n",
        "\n",
        "```\n",
        "# Open the Terminal in the bottom lefthand corner of your screen.\n",
        "# Run the following command by typing it in manually (case sensitive!)\n",
        "\n",
        "pip install census\n",
        "```\n",
        "\n",
        "> **What is an API?**\n",
        "API stands for Application Programming Interface.  APIs deliver requests, retrieve the data, and return it in a structured format. APIs are commonly used across many platforms and services to automate data access and make complex systems easier to work with. For example, when you use a program like Python to access U.S. Census data, you're using an API to ask the Census Bureau's database for specific information—like the population of a county or the median household income.\n",
        "\n",
        "---\n",
        "\n",
        "### Step 2: Retrieve & Store Census API Key\n",
        "\n",
        "To access census data, you'll need a Census API key. You can request one from: [https://api.census.gov/data/key_signup.html](https://api.census.gov/data/key_signup.html)\n",
        "\n",
        "> * **Organization Name:** University of California, Berkeley\n",
        "* **Email Address:** [YOUR BERKELEY EMAIL]\n",
        "* Aggree to TOC\n",
        "\n",
        "\n",
        "Once you have your key, store it securely as an environment variable.\n",
        "\n",
        "### Step 3: # Load Required Libraries into Your Environment\n",
        "In addition to the Census, pandas, and plotly libraries, you will also be importing the ```os``` library which helps your Python code talk to the computer it's running on.\n"
      ],
      "metadata": {
        "id": "aBxZFtvjDSM3"
      },
      "id": "aBxZFtvjDSM3"
    },
    {
      "cell_type": "code",
      "source": [
        "from census import Census\n",
        "import os\n",
        "import pandas as pd\n",
        "import plotly.express as px\n",
        "\n",
        "# Initialize the Census API\n",
        "censusAPIKey = Census(os.getenv(\"930200410bc676a8f6f0e04248c9d62d4c91d981.\"))"
      ],
      "metadata": {
        "id": "FS-NYdJsD7cu"
      },
      "id": "FS-NYdJsD7cu",
      "execution_count": null,
      "outputs": []
    },
    {
      "cell_type": "markdown",
      "source": [
        "##❗️ Try it Out (Cont'd.)❗️\n",
        "### Step 5: Fetch County-Level Population (Decennial) data\n",
        "\n",
        "Let's fetch total population (`P001001`) for selected counties in California.\n",
        "\n",
        "You'll use two methods applied to the censusAPIKey variable, namely,\n",
        "\n",
        "* ```sf1``` to pull data from the decennial census\n",
        "\n",
        "* ```state_county_tract``` to get data from the Summary File 1 for a specific state, county, and tract\n",
        "\n",
        "> **Curious about how to query the Census API?**  \n",
        "You can access the detailed documentation, including syntax guides and learning materials on the U.S. Census Bureau's website's [Developers](https://www.census.gov/data/developers.html) page.\n",
        "\n",
        "Using the template code below and the [documentation for the package](https://pypi.org/project/census/#description), write a query to retrieve data using the census library.\n",
        "\n",
        "> Tip: In this code cell, the state_fips and county_fips parameters are used to tell the Census API exactly which geographic area you want data for\n",
        "\n"
      ],
      "metadata": {
        "id": "ebkW3hx_EA98"
      },
      "id": "ebkW3hx_EA98"
    },
    {
      "cell_type": "code",
      "source": [
        "# Manipulate this template code to view a preview of a census data dataframe\n",
        "popData = censusAPIKey.sf1.state_county_tract(\n",
        "    fields=['P001001'],\n",
        "    state_fips=state_code,\n",
        "    county_fips=county_code,\n",
        "    tract=tract_code,\n",
        "    year=2010\n",
        ")\n",
        "\n",
        "dfPop = pd.DataFrame(popData)\n",
        "print(dfPop)"
      ],
      "metadata": {
        "id": "SzJdtjjOEs0X"
      },
      "id": "SzJdtjjOEs0X",
      "execution_count": null,
      "outputs": []
    }
  ],
  "metadata": {
    "kernelspec": {
      "display_name": "t2ne",
      "language": "python",
      "name": "python3"
    },
    "language_info": {
      "codemirror_mode": {
        "name": "ipython",
        "version": 3
      },
      "file_extension": ".py",
      "mimetype": "text/x-python",
      "name": "python",
      "nbconvert_exporter": "python",
      "pygments_lexer": "ipython3",
      "version": "3.11.9"
    },
    "colab": {
      "provenance": []
    }
  },
  "nbformat": 4,
  "nbformat_minor": 5
}
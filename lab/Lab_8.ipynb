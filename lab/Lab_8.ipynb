{
  "nbformat": 4,
  "nbformat_minor": 0,
  "metadata": {
    "colab": {
      "provenance": [],
      "include_colab_link": true
    },
    "kernelspec": {
      "name": "python3",
      "display_name": "Python 3"
    },
    "language_info": {
      "name": "python"
    }
  },
  "cells": [
    {
      "cell_type": "markdown",
      "metadata": {
        "id": "view-in-github",
        "colab_type": "text"
      },
      "source": [
        "<a href=\"https://colab.research.google.com/github/manpazito/city_planning_101/blob/main/lab/Lab_8.ipynb\" target=\"_parent\"><img src=\"https://colab.research.google.com/assets/colab-badge.svg\" alt=\"Open In Colab\"/></a>"
      ]
    },
    {
      "cell_type": "markdown",
      "source": [
        "# CYPLAN101 Fall 2025 - Lab 8: Basics of Geopandas Wrangling & Data Visualization\n",
        "\n",
        "A majority of this lab (Part I) will require you to reference the lab page in bCourses.  The lab page will walk you through the process of creating a StoryMap in ArcGIS Online.\n",
        "\n",
        "Edit the provided markdown cell with a link to your ArcGIS Online Storymap\n",
        "\n",
        "Reference this notebook for Part II of the lab exercise only.\n",
        "\n",
        "## Learning Objectives:\n",
        "* View various StoryMap examples\n",
        "* Review basic StoryMap structure and building blocks including map elements and sharing permissions\n",
        "* Tour the StoryMap utility in ArcGIS Online\n",
        "* Utilize Lab #7 exports to create a concise StoryMap\n",
        "* Introduce deck.gl and pydeck\n",
        "* Discuss options for embedding and hosting interactive map content\n",
        "\n"
      ],
      "metadata": {
        "id": "pZ5c3GCYH2-R"
      }
    },
    {
      "cell_type": "markdown",
      "source": [
        "---\n",
        "##Part I. Link to StoryMap\n",
        "\n",
        "Add your link to your StoryMap here:\n",
        "```\n",
        "[LINK HERE]\n",
        "```"
      ],
      "metadata": {
        "id": "50y-sclVqudU"
      }
    },
    {
      "cell_type": "markdown",
      "source": [
        "---\n",
        "## Part II. Working with PyDeck: Mapping in Three Dimensions\n",
        "This section of the lab will require you to conduct some basic mapping exercises depicting parts of the San Francisco Bay Area.\n",
        "\n",
        "Take a moment to review a few of key concepts before reviewing and executing the code below.\n",
        "\n",
        "### Concepts\n",
        "- **Layer**: a visual encoding for your data (e.g., `GeoJsonLayer`, `ScatterplotLayer`, `TripsLayer`). A layer knows *which data fields* map to *which visual properties* (position, color, elevation, etc.).  \n",
        "\n",
        "- **Deck**: the \"scene\" that holds one or more layers, a basemap, camera (view state), and interaction (hover, click).  \n",
        "\n",
        "- **Accessors**: strings or property names that tell deck.gl how to read values from each feature (e.g., `\"properties.elev\"` or a constant like `[255, 140, 0, 200]`).  \n",
        "\n",
        "- **2D vs 3D**: extrusions only appear when the map has **pitch > 0** and you provide a positive **elevation**.\n"
      ],
      "metadata": {
        "id": "kT39JEdiLfeh"
      }
    },
    {
      "cell_type": "code",
      "execution_count": null,
      "metadata": {
        "id": "MvnrLTuxHo5t"
      },
      "outputs": [],
      "source": [
        "#Uncomment the lines below to install geopandas dependencies package\n",
        "\n",
        "# !pip install 'geopandas[all]'\n",
        "# !pip install pydeck\n",
        "# !pip install gtfs_functions\n"
      ]
    },
    {
      "cell_type": "markdown",
      "source": [
        "### Step 1: Explore UK Car Accidents Visualization\n",
        "\n",
        "This code creates an interactive 3D heatmap of 2014 UK car accidents using PyDeck. It loads accident location data from a CSV file and visualizes it using a HexagonLayer, which aggregates individual points into hexagonal bins where height represents accident density. The layer is configured with 3D extrusion, interactive highlighting, and an elevation scale that makes density patterns visually striking.\n",
        "\n",
        "The viewport is centered on the UK with a tilted, rotated camera angle that enhances the 3D perspective. The final visualization is exported as a standalone HTML file that can be opened in any browser, allowing users to explore accident hotspots across the country interactively."
      ],
      "metadata": {
        "id": "EgNf4zd9rAE8"
      }
    },
    {
      "cell_type": "code",
      "source": [
        "import pydeck as pdk\n",
        "\n",
        "# 2014 locations of car accidents in the UK\n",
        "UK_ACCIDENTS_DATA = ('https://raw.githubusercontent.com/uber-common/'\n",
        "                     'deck.gl-data/master/examples/3d-heatmap/heatmap-data.csv')\n",
        "\n",
        "# Define a layer to display on a map\n",
        "layer = pdk.Layer(\n",
        "    'HexagonLayer',\n",
        "    UK_ACCIDENTS_DATA,\n",
        "    get_position=['lng', 'lat'],\n",
        "    auto_highlight=True,\n",
        "    elevation_scale=50,\n",
        "    pickable=True,\n",
        "    elevation_range=[0, 3000],\n",
        "    extruded=True,\n",
        "    coverage=1)\n",
        "\n",
        "# Set the viewport location\n",
        "view_state = pdk.ViewState(\n",
        "    longitude=-1.415,\n",
        "    latitude=52.2323,\n",
        "    zoom=6,\n",
        "    min_zoom=5,\n",
        "    max_zoom=15,\n",
        "    pitch=40.5,\n",
        "    bearing=-27.36)\n",
        "\n",
        "# Render\n",
        "r = pdk.Deck(layers=[layer], initial_view_state=view_state)\n",
        "r.to_html('demo.html')"
      ],
      "metadata": {
        "id": "xy8cpWExrAYZ"
      },
      "execution_count": null,
      "outputs": []
    },
    {
      "cell_type": "markdown",
      "source": [
        "### Step 2: Reproduce a Map for the San Francisco Bay Area\n",
        "## GridLayer Visualization Exercise\n",
        "\n",
        "**Hint: Read the below information very carefully!  It contains necessary arguments in order to create your plot**\n",
        "\n",
        "Complete the code below by filling in the blanks based on these parameter descriptions:\n",
        "\n",
        "The `GridLayer` aggregates data points into a grid of square cells. The `cell_size` parameter (in meters) determines how large each grid square is - smaller values create finer detail but may be noisier, while larger values show broader patterns. The `elevation_scale` multiplies the height of each cell, making density differences more or less dramatic. Set `pickable` to True to enable hover interactions and False to disable them. The `extruded` parameter creates 3D columns when True, or flat 2D squares when False. The `get_position` parameter specifies which field in your data contains the coordinate array.\n",
        "\n",
        "For the viewport, `latitude` and `longitude` set the map's center point in decimal degrees. The `zoom` level controls how close you are (higher numbers zoom in closer, typically ranging from 0-20). The `pitch` angle tilts the camera (0 is straight down, 60 is angled), and `bearing` rotates the map in degrees (0 is north-up).\n",
        "\n",
        "**Follow the instructions at the top of each of the code cells below to complete this exercise**\n",
        "\n",
        "> - Recommended packages: `pydeck`, `geopandas`, `numpy`, `matplotlib`.\n",
        "> - Basemap: this notebook uses a **token‑free Carto vector style** so students get a basemap without credentials.  \n",
        "<br>\n",
        "\n",
        "> *If you prefer Mapbox, set `map_style` to a Mapbox style URL and ensure `MAPBOX_API_KEY` is set in your environment.*"
      ],
      "metadata": {
        "id": "kOZioBtpsREI"
      }
    },
    {
      "cell_type": "code",
      "source": [
        "# Uncomment the code below to load in dependencies for the next step's exercise.\n",
        "# from __future__ import annotations\n",
        "# import os\n",
        "# from pathlib import Path\n",
        "# from typing import Iterable, Tuple, Dict, Optional\n",
        "\n",
        "# import numpy as np\n",
        "# import pandas as pd\n",
        "# import pydeck as pdk\n",
        "# import geopandas as gpd\n",
        "# import seaborn as sns\n",
        "# import matplotlib.pyplot as plt\n",
        "# from matplotlib.cm import get_cmap\n",
        "\n",
        "# print(\"Pandas version:\", pd.__version__)\n",
        "# print(\"Geopandas version:\", gpd.__version__)"
      ],
      "metadata": {
        "id": "F6V_7uU-sU-u"
      },
      "execution_count": null,
      "outputs": []
    },
    {
      "cell_type": "code",
      "source": [
        "# Uncomment and run the code below to import dependencies...\n",
        "# %%bash\n",
        "# set -euo pipefail\n",
        "\n",
        "# REPO_ZIP_URL=\"https://github.com/UCB-urban-data101/classActivity_data/archive/refs/heads/main.zip\"\n",
        "# TMP_DIR=\"$(mktemp -d)\"\n",
        "\n",
        "# # Prefer wget, otherwise curl\n",
        "# if command -v wget >/dev/null 2>&1; then\n",
        "#   wget -q -O \"$TMP_DIR/repo.zip\" \"$REPO_ZIP_URL\"\n",
        "# else\n",
        "#   curl -L -s -o \"$TMP_DIR/repo.zip\" \"$REPO_ZIP_URL\"\n",
        "# fi\n",
        "\n",
        "# unzip -oq \"$TMP_DIR/repo.zip\" -d \"$TMP_DIR\"\n",
        "# SRC_DIR=\"$TMP_DIR/classActivity_data-main\"\n",
        "\n",
        "# rm -rf data\n",
        "# cp -R \"$SRC_DIR/data\" .\n",
        "\n",
        "# rm -rf \"$TMP_DIR\"\n",
        "# echo \"Fetch complete.\""
      ],
      "metadata": {
        "id": "lIwEAoCNsxov"
      },
      "execution_count": null,
      "outputs": []
    },
    {
      "cell_type": "code",
      "source": [
        "# official example\n",
        "CPU_GRID_LAYER_DATA = (\n",
        "    \"https://raw.githubusercontent.com/uber-common/\"\n",
        "    \"deck.gl-data/master/website/sf-bike-parking.json\"\n",
        ")\n",
        "df = pd.read_json(CPU_GRID_LAYER_DATA)\n",
        "\n",
        "# Define a layer to display on a map\n",
        "layer = pdk.Layer(\n",
        "    \"GridLayer\",\n",
        "    df,\n",
        "    pickable=____,  # True or False for hover interaction\n",
        "    extruded=____,  # True for 3D columns, False for 2D squares\n",
        "    cell_size=____,  # Size of each grid cell in meters\n",
        "    elevation_scale=____,  # Multiplier for cell height\n",
        "    get_position=\"COORDINATES\",\n",
        ")\n",
        "\n",
        "view_state = pdk.ViewState(\n",
        "    latitude=____,  # Center latitude in decimal degrees\n",
        "    longitude=____,  # Center longitude in decimal degrees\n",
        "    zoom=____,  # Zoom level (0-20)\n",
        "    bearing=____,  # Map rotation in degrees\n",
        "    pitch=____  # Camera tilt angle (0-60)\n",
        ")\n",
        "\n",
        "# Render\n",
        "r = pdk.Deck(\n",
        "    layers=[layer],\n",
        "    initial_view_state=view_state,\n",
        "    tooltip={\"text\": \"{position}\\nCount: {count}\"},\n",
        ")\n",
        "r.to_html(\"grid_layer.html\")"
      ],
      "metadata": {
        "id": "Zx5BFFeXtGt_"
      },
      "execution_count": null,
      "outputs": []
    },
    {
      "cell_type": "markdown",
      "source": [
        "---\n",
        "# Important Submission Instructions"
      ],
      "metadata": {
        "id": "FSLdlWf1sS6F"
      }
    }
  ]
}
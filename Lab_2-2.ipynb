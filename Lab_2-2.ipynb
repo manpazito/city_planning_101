{
  "cells": [
    {
      "cell_type": "markdown",
      "id": "1331faa1",
      "metadata": {
        "id": "1331faa1"
      },
      "source": [
        "You can order print and ebook versions of *Think Python 3e* from\n",
        "[Bookshop.org](https://bookshop.org/a/98697/9781098155438) and\n",
        "[Amazon](https://www.amazon.com/_/dp/1098155432?smid=ATVPDKIKX0DER&_encoding=UTF8&tag=oreilly20-20&_encoding=UTF8&tag=greenteapre01-20&linkCode=ur2&linkId=e2a529f94920295d27ec8a06e757dc7c&camp=1789&creative=9325)."
      ]
    },
    {
      "cell_type": "code",
      "execution_count": 1,
      "id": "1a0a6ff4",
      "metadata": {
        "colab": {
          "base_uri": "https://localhost:8080/"
        },
        "id": "1a0a6ff4",
        "outputId": "4109dee4-68c9-4bb1-a60d-ec9df73760a5",
        "tags": []
      },
      "outputs": [
        {
          "name": "stdout",
          "output_type": "stream",
          "text": [
            "Downloaded thinkpython.py\n",
            "Downloaded diagram.py\n"
          ]
        }
      ],
      "source": [
        "from os.path import basename, exists\n",
        "\n",
        "def download(url):\n",
        "    filename = basename(url)\n",
        "    if not exists(filename):\n",
        "        from urllib.request import urlretrieve\n",
        "\n",
        "        local, _ = urlretrieve(url, filename)\n",
        "        print(\"Downloaded \" + str(local))\n",
        "    return filename\n",
        "\n",
        "download('https://github.com/AllenDowney/ThinkPython/raw/v3/thinkpython.py');\n",
        "download('https://github.com/AllenDowney/ThinkPython/raw/v3/diagram.py');\n",
        "\n",
        "import thinkpython"
      ]
    },
    {
      "cell_type": "markdown",
      "id": "d0286422",
      "metadata": {
        "id": "d0286422"
      },
      "source": [
        "# Variables and Statements\n",
        "\n",
        "In the previous chapter, we used operators to write expressions that perform arithmetic computations.\n",
        "\n",
        "In this chapter, you'll learn about variables and statements, the `import` statement, and the `print` function.\n",
        "And I'll introduce more of the vocabulary we use to talk about programs, including \"argument\" and \"module\".\n"
      ]
    },
    {
      "cell_type": "markdown",
      "id": "4ac44f0c",
      "metadata": {
        "id": "4ac44f0c"
      },
      "source": [
        "## Variables\n",
        "\n",
        "A **variable** is a name that refers to a value.\n",
        "To create a variable, we can write a **assignment statement** like this."
      ]
    },
    {
      "cell_type": "code",
      "execution_count": 2,
      "id": "59f6db42",
      "metadata": {
        "id": "59f6db42"
      },
      "outputs": [],
      "source": [
        "n = 17"
      ]
    },
    {
      "cell_type": "markdown",
      "id": "52f187f1",
      "metadata": {
        "id": "52f187f1"
      },
      "source": [
        "An assignment statement has three parts: the name of the variable on the left, the equals operator, `=`, and an expression on the right.\n",
        "In this example, the expression is an integer.\n",
        "In the following example, the expression is a floating-point number."
      ]
    },
    {
      "cell_type": "code",
      "execution_count": 3,
      "id": "1301f6af",
      "metadata": {
        "id": "1301f6af"
      },
      "outputs": [],
      "source": [
        "pi = 3.141592653589793"
      ]
    },
    {
      "cell_type": "markdown",
      "id": "3e27e65c",
      "metadata": {
        "id": "3e27e65c"
      },
      "source": [
        "And in the following example, the expression is a string."
      ]
    },
    {
      "cell_type": "code",
      "execution_count": 4,
      "id": "f7adb732",
      "metadata": {
        "id": "f7adb732"
      },
      "outputs": [],
      "source": [
        "message = 'And now for something completely different'"
      ]
    },
    {
      "cell_type": "markdown",
      "id": "cb5916ea",
      "metadata": {
        "id": "cb5916ea"
      },
      "source": [
        "When you run an assignment statement, there is no output.\n",
        "Python creates the variable and gives it a value, but the assignment statement has no visible effect.\n",
        "However, after creating a variable, you can use it as an expression.\n",
        "So we can display the value of `message` like this:"
      ]
    },
    {
      "cell_type": "code",
      "execution_count": 5,
      "id": "6bcc0a66",
      "metadata": {
        "colab": {
          "base_uri": "https://localhost:8080/",
          "height": 35
        },
        "id": "6bcc0a66",
        "outputId": "afdbf7f3-a643-48cb-d48f-f4a1802287e8"
      },
      "outputs": [
        {
          "data": {
            "application/vnd.google.colaboratory.intrinsic+json": {
              "type": "string"
            },
            "text/plain": [
              "'And now for something completely different'"
            ]
          },
          "execution_count": 5,
          "metadata": {},
          "output_type": "execute_result"
        }
      ],
      "source": [
        "message"
      ]
    },
    {
      "cell_type": "markdown",
      "id": "e3fd81de",
      "metadata": {
        "id": "e3fd81de"
      },
      "source": [
        "You can also use a variable as part of an expression with arithmetic operators."
      ]
    },
    {
      "cell_type": "code",
      "execution_count": 6,
      "id": "3f11f497",
      "metadata": {
        "colab": {
          "base_uri": "https://localhost:8080/"
        },
        "id": "3f11f497",
        "outputId": "292c834e-2b1c-477f-93eb-055110001233"
      },
      "outputs": [
        {
          "data": {
            "text/plain": [
              "42"
            ]
          },
          "execution_count": 6,
          "metadata": {},
          "output_type": "execute_result"
        }
      ],
      "source": [
        "n + 25"
      ]
    },
    {
      "cell_type": "code",
      "execution_count": 7,
      "id": "6b2dafea",
      "metadata": {
        "colab": {
          "base_uri": "https://localhost:8080/"
        },
        "id": "6b2dafea",
        "outputId": "2708d5aa-0364-4bc9-cf03-4841c5dd9d42"
      },
      "outputs": [
        {
          "data": {
            "text/plain": [
              "6.283185307179586"
            ]
          },
          "execution_count": 7,
          "metadata": {},
          "output_type": "execute_result"
        }
      ],
      "source": [
        "2 * pi"
      ]
    },
    {
      "cell_type": "markdown",
      "id": "97396e7d",
      "metadata": {
        "id": "97396e7d"
      },
      "source": [
        "And you can use a variable when you call a function."
      ]
    },
    {
      "cell_type": "code",
      "execution_count": 8,
      "id": "72c45ac5",
      "metadata": {
        "colab": {
          "base_uri": "https://localhost:8080/"
        },
        "id": "72c45ac5",
        "outputId": "1a8356ee-4dd0-4e8c-9138-f10f2188edb1"
      },
      "outputs": [
        {
          "data": {
            "text/plain": [
              "3"
            ]
          },
          "execution_count": 8,
          "metadata": {},
          "output_type": "execute_result"
        }
      ],
      "source": [
        "round(pi)"
      ]
    },
    {
      "cell_type": "code",
      "execution_count": 9,
      "id": "6bf81c52",
      "metadata": {
        "colab": {
          "base_uri": "https://localhost:8080/"
        },
        "id": "6bf81c52",
        "outputId": "4bbefaa7-4e3d-49d6-a5aa-7578edcf82f4"
      },
      "outputs": [
        {
          "data": {
            "text/plain": [
              "42"
            ]
          },
          "execution_count": 9,
          "metadata": {},
          "output_type": "execute_result"
        }
      ],
      "source": [
        "len(message)"
      ]
    },
    {
      "cell_type": "markdown",
      "id": "397d9da3",
      "metadata": {
        "id": "397d9da3"
      },
      "source": [
        "## State diagrams\n",
        "\n",
        "A common way to represent variables on paper is to write the name with\n",
        "an arrow pointing to its value."
      ]
    },
    {
      "cell_type": "code",
      "execution_count": 14,
      "id": "2c25e84e",
      "metadata": {
        "id": "2c25e84e",
        "tags": []
      },
      "outputs": [],
      "source": [
        "import math\n",
        "\n",
        "from diagram import make_binding, Frame\n",
        "\n",
        "binding = make_binding(\"message\", 'And now for something completely different')\n",
        "binding2 = make_binding(\"n\", 17)\n",
        "binding3 = make_binding(\"pi\", 3.141592653589793)\n",
        "\n",
        "frame = Frame([binding, binding2, binding3])"
      ]
    },
    {
      "cell_type": "code",
      "execution_count": 18,
      "id": "5b27a635",
      "metadata": {
        "colab": {
          "base_uri": "https://localhost:8080/",
          "height": 138
        },
        "id": "5b27a635",
        "outputId": "e079fb7c-c388-4f0e-874b-bba6cc0d1dad",
        "tags": []
      },
      "outputs": [
        {
          "data": {
            "image/png": "[encoded data removed]",
            "text/plain": [
              "<Figure size 362x101 with 1 Axes>"
            ]
          },
          "metadata": {},
          "output_type": "display_data"
        }
      ],
      "source": [
        "from diagram import diagram, adjust\n",
        "\n",
        "\n",
        "width, height, x, y = [3.62, 1.01, 0.6, 0.76]\n",
        "ax = diagram(width, height)\n",
        "bbox = frame.draw(ax, x, y, dy=-0.25)\n",
        "# adjust(x, y, bbox)"
      ]
    },
    {
      "cell_type": "markdown",
      "id": "6f40da93",
      "metadata": {
        "id": "6f40da93"
      },
      "source": [
        "This kind of figure is called a **state diagram** because it shows what state each of the variables is in (think of it as the variable's state of mind).\n",
        "We'll use state diagrams throughout the book to represent a model of how Python stores variables and their values."
      ]
    },
    {
      "cell_type": "markdown",
      "id": "ba252c85",
      "metadata": {
        "id": "ba252c85"
      },
      "source": [
        "## Variable names\n",
        "\n",
        "Variable names can be as long as you like. They can contain both letters and numbers, but they can't begin with a number.\n",
        "It is legal to use uppercase letters, but it is conventional to use only lower case for\n",
        "variable names.\n",
        "\n",
        "The only punctuation that can appear in a variable name is the underscore character, `_`. It is often used in names with multiple words, such as `your_name` or  `airspeed_of_unladen_swallow`.\n",
        "\n",
        "If you give a variable an illegal name, you get a syntax error.\n",
        "The name `million!` is illegal because it contains punctuation."
      ]
    },
    {
      "cell_type": "code",
      "execution_count": 19,
      "id": "ac2620ef",
      "metadata": {
        "colab": {
          "base_uri": "https://localhost:8080/",
          "height": 106
        },
        "id": "ac2620ef",
        "outputId": "a792eaa8-a193-467a-974c-df525fbf0a56",
        "tags": []
      },
      "outputs": [
        {
          "ename": "SyntaxError",
          "evalue": "invalid syntax (ipython-input-4061783710.py, line 1)",
          "output_type": "error",
          "traceback": [
            "\u001b[0;36m  File \u001b[0;32m\"/tmp/ipython-input-4061783710.py\"\u001b[0;36m, line \u001b[0;32m1\u001b[0m\n\u001b[0;31m    million! = 1000000\u001b[0m\n\u001b[0m           ^\u001b[0m\n\u001b[0;31mSyntaxError\u001b[0m\u001b[0;31m:\u001b[0m invalid syntax\n"
          ]
        }
      ],
      "source": [
        "%%expect SyntaxError\n",
        "\n",
        "million! = 1000000"
      ]
    },
    {
      "cell_type": "markdown",
      "id": "a1cefe3e",
      "metadata": {
        "id": "a1cefe3e"
      },
      "source": [
        "`76trombones` is illegal because it starts with a number."
      ]
    },
    {
      "cell_type": "code",
      "execution_count": 20,
      "id": "1a8b8382",
      "metadata": {
        "colab": {
          "base_uri": "https://localhost:8080/",
          "height": 106
        },
        "id": "1a8b8382",
        "outputId": "b026a547-4ee6-417c-c49e-edb53246bcbd",
        "tags": []
      },
      "outputs": [
        {
          "ename": "SyntaxError",
          "evalue": "invalid decimal literal (ipython-input-3636686625.py, line 1)",
          "output_type": "error",
          "traceback": [
            "\u001b[0;36m  File \u001b[0;32m\"/tmp/ipython-input-3636686625.py\"\u001b[0;36m, line \u001b[0;32m1\u001b[0m\n\u001b[0;31m    76trombones = 'big parade'\u001b[0m\n\u001b[0m     ^\u001b[0m\n\u001b[0;31mSyntaxError\u001b[0m\u001b[0;31m:\u001b[0m invalid decimal literal\n"
          ]
        }
      ],
      "source": [
        "%%expect SyntaxError\n",
        "\n",
        "76trombones = 'big parade'"
      ]
    },
    {
      "cell_type": "markdown",
      "id": "94aa7e60",
      "metadata": {
        "id": "94aa7e60"
      },
      "source": [
        "`class` is also illegal, but it might not be obvious why."
      ]
    },
    {
      "cell_type": "code",
      "execution_count": 21,
      "id": "b6938851",
      "metadata": {
        "colab": {
          "base_uri": "https://localhost:8080/",
          "height": 106
        },
        "id": "b6938851",
        "outputId": "f088de02-5ffb-4695-bae4-911dcc9476ee",
        "tags": []
      },
      "outputs": [
        {
          "ename": "SyntaxError",
          "evalue": "invalid syntax (ipython-input-3285659805.py, line 1)",
          "output_type": "error",
          "traceback": [
            "\u001b[0;36m  File \u001b[0;32m\"/tmp/ipython-input-3285659805.py\"\u001b[0;36m, line \u001b[0;32m1\u001b[0m\n\u001b[0;31m    class = 'Self-Defence Against Fresh Fruit'\u001b[0m\n\u001b[0m          ^\u001b[0m\n\u001b[0;31mSyntaxError\u001b[0m\u001b[0;31m:\u001b[0m invalid syntax\n"
          ]
        }
      ],
      "source": [
        "%%expect SyntaxError\n",
        "\n",
        "class = 'Self-Defence Against Fresh Fruit'"
      ]
    },
    {
      "cell_type": "markdown",
      "id": "784cfb5c",
      "metadata": {
        "id": "784cfb5c"
      },
      "source": [
        "It turns out that `class` is a **keyword**, which is a special word used to specify the structure of a program.\n",
        "Keywords can't be used as variable names.\n",
        "\n",
        "Here's a complete list of Python's keywords:"
      ]
    },
    {
      "cell_type": "markdown",
      "id": "127c07e8",
      "metadata": {
        "id": "127c07e8"
      },
      "source": [
        "```\n",
        "False      await      else       import     pass\n",
        "None       break      except     in         raise\n",
        "True       class      finally    is         return\n",
        "and        continue   for        lambda     try\n",
        "as         def        from       nonlocal   while\n",
        "assert     del        global     not        with\n",
        "async      elif       if         or         yield\n",
        "```"
      ]
    },
    {
      "cell_type": "code",
      "execution_count": 22,
      "id": "4a8f4b3e",
      "metadata": {
        "colab": {
          "base_uri": "https://localhost:8080/"
        },
        "id": "4a8f4b3e",
        "outputId": "13037127-be26-418e-b102-bd074090385f",
        "tags": []
      },
      "outputs": [
        {
          "data": {
            "text/plain": [
              "35"
            ]
          },
          "execution_count": 22,
          "metadata": {},
          "output_type": "execute_result"
        }
      ],
      "source": [
        "from keyword import kwlist\n",
        "\n",
        "len(kwlist)"
      ]
    },
    {
      "cell_type": "markdown",
      "id": "6f14d301",
      "metadata": {
        "id": "6f14d301"
      },
      "source": [
        "You don't have to memorize this list. In most development environments,\n",
        "keywords are displayed in a different color; if you try to use one as a\n",
        "variable name, you'll know."
      ]
    },
    {
      "cell_type": "markdown",
      "id": "c954a3b0",
      "metadata": {
        "id": "c954a3b0"
      },
      "source": [
        "## The import statement\n",
        "\n",
        "In order to use some Python features, you have to **import** them.\n",
        "For example, the following statement imports the `math` module."
      ]
    },
    {
      "cell_type": "code",
      "execution_count": 23,
      "id": "98c268e9",
      "metadata": {
        "id": "98c268e9"
      },
      "outputs": [],
      "source": [
        "import math"
      ]
    },
    {
      "cell_type": "markdown",
      "id": "ea4f75ec",
      "metadata": {
        "id": "ea4f75ec"
      },
      "source": [
        "A **module** is a collection of variables and functions.\n",
        "The math module provides a variable called `pi` that contains the value of the mathematical constant denoted $\\pi$.\n",
        "We can display its value like this."
      ]
    },
    {
      "cell_type": "code",
      "execution_count": 24,
      "id": "47bc17c9",
      "metadata": {
        "colab": {
          "base_uri": "https://localhost:8080/"
        },
        "id": "47bc17c9",
        "outputId": "585f463c-4b3f-4f9b-9556-9c775466bfb6"
      },
      "outputs": [
        {
          "data": {
            "text/plain": [
              "3.141592653589793"
            ]
          },
          "execution_count": 24,
          "metadata": {},
          "output_type": "execute_result"
        }
      ],
      "source": [
        "math.pi"
      ]
    },
    {
      "cell_type": "markdown",
      "id": "c96106e4",
      "metadata": {
        "id": "c96106e4"
      },
      "source": [
        "To use a variable in a module, you have to use the **dot operator** (`.`) between the name of the module and the name of the variable.\n",
        "\n",
        "The math module also contains functions.\n",
        "For example, `sqrt` computes square roots."
      ]
    },
    {
      "cell_type": "code",
      "execution_count": 25,
      "id": "fd1cec63",
      "metadata": {
        "colab": {
          "base_uri": "https://localhost:8080/"
        },
        "id": "fd1cec63",
        "outputId": "cb19cd39-d7ef-40f6-ac31-ab1317b90191"
      },
      "outputs": [
        {
          "data": {
            "text/plain": [
              "5.0"
            ]
          },
          "execution_count": 25,
          "metadata": {},
          "output_type": "execute_result"
        }
      ],
      "source": [
        "math.sqrt(25)"
      ]
    },
    {
      "cell_type": "markdown",
      "id": "185e94a3",
      "metadata": {
        "id": "185e94a3"
      },
      "source": [
        "And `pow` raises one number to the power of a second number."
      ]
    },
    {
      "cell_type": "code",
      "execution_count": 26,
      "id": "87316ddd",
      "metadata": {
        "colab": {
          "base_uri": "https://localhost:8080/"
        },
        "id": "87316ddd",
        "outputId": "1f56e894-358c-4b89-80bd-aacaa22e5706"
      },
      "outputs": [
        {
          "data": {
            "text/plain": [
              "25.0"
            ]
          },
          "execution_count": 26,
          "metadata": {},
          "output_type": "execute_result"
        }
      ],
      "source": [
        "math.pow(5, 2)"
      ]
    },
    {
      "cell_type": "markdown",
      "id": "5df25a9a",
      "metadata": {
        "id": "5df25a9a"
      },
      "source": [
        "At this point we've seen two ways to raise a number to a power: we can use the `math.pow` function or the exponentiation operator, `**`.\n",
        "Either one is fine, but the operator is used more often than the function."
      ]
    },
    {
      "cell_type": "markdown",
      "id": "6538f22b",
      "metadata": {
        "id": "6538f22b"
      },
      "source": [
        "## Expressions and statements\n",
        "\n",
        "So far, we've seen a few kinds of expressions.\n",
        "An expression can be a single value, like an integer, floating-point number, or string.\n",
        "It can also be a collection of values and operators.\n",
        "And it can include variable names and function calls.\n",
        "Here's an expression that includes several of these elements."
      ]
    },
    {
      "cell_type": "code",
      "execution_count": 27,
      "id": "7f0b92df",
      "metadata": {
        "colab": {
          "base_uri": "https://localhost:8080/"
        },
        "id": "7f0b92df",
        "outputId": "7ee6a9c0-ca0d-471f-929b-e6088ba56e75"
      },
      "outputs": [
        {
          "data": {
            "text/plain": [
              "42"
            ]
          },
          "execution_count": 27,
          "metadata": {},
          "output_type": "execute_result"
        }
      ],
      "source": [
        "19 + n + round(math.pi) * 2"
      ]
    },
    {
      "cell_type": "markdown",
      "id": "000dd2ba",
      "metadata": {
        "id": "000dd2ba"
      },
      "source": [
        "We have also seen a few kind of statements.\n",
        "A **statement** is a unit of code that has an effect, but no value.\n",
        "For example, an assignment statement creates a variable and gives it a value, but the statement itself has no value."
      ]
    },
    {
      "cell_type": "code",
      "execution_count": 28,
      "id": "b882c340",
      "metadata": {
        "id": "b882c340"
      },
      "outputs": [],
      "source": [
        "n = 17"
      ]
    },
    {
      "cell_type": "markdown",
      "id": "cff0414b",
      "metadata": {
        "id": "cff0414b"
      },
      "source": [
        "Similarly, an import statement has an effect -- it imports a module so we can use the variables and functions it contains -- but it has no visible effect."
      ]
    },
    {
      "cell_type": "code",
      "execution_count": 29,
      "id": "299817d8",
      "metadata": {
        "id": "299817d8"
      },
      "outputs": [],
      "source": [
        "import math"
      ]
    },
    {
      "cell_type": "markdown",
      "id": "2aeb1000",
      "metadata": {
        "id": "2aeb1000"
      },
      "source": [
        "Computing the value of an expression is called **evaluation**.\n",
        "Running a statement is called **execution**."
      ]
    },
    {
      "cell_type": "markdown",
      "id": "f61601e4",
      "metadata": {
        "id": "f61601e4"
      },
      "source": [
        "## The print function\n",
        "\n",
        "When you evaluate an expression, the result is displayed."
      ]
    },
    {
      "cell_type": "code",
      "execution_count": 30,
      "id": "805977c6",
      "metadata": {
        "colab": {
          "base_uri": "https://localhost:8080/"
        },
        "id": "805977c6",
        "outputId": "1a5af340-6b58-40e0-eeaf-b353f7afdbf8"
      },
      "outputs": [
        {
          "data": {
            "text/plain": [
              "18"
            ]
          },
          "execution_count": 30,
          "metadata": {},
          "output_type": "execute_result"
        }
      ],
      "source": [
        "n + 1"
      ]
    },
    {
      "cell_type": "markdown",
      "id": "efacf0fa",
      "metadata": {
        "id": "efacf0fa"
      },
      "source": [
        "But if you evaluate more than one expression, only the value of the last one is displayed."
      ]
    },
    {
      "cell_type": "code",
      "execution_count": 31,
      "id": "962e08ab",
      "metadata": {
        "colab": {
          "base_uri": "https://localhost:8080/"
        },
        "id": "962e08ab",
        "outputId": "4eaae770-b12e-484a-b10c-972779bc84a2"
      },
      "outputs": [
        {
          "data": {
            "text/plain": [
              "20"
            ]
          },
          "execution_count": 31,
          "metadata": {},
          "output_type": "execute_result"
        }
      ],
      "source": [
        "n + 2\n",
        "n + 3"
      ]
    },
    {
      "cell_type": "markdown",
      "id": "cf2b991d",
      "metadata": {
        "id": "cf2b991d"
      },
      "source": [
        "To display more than one value, you can use the `print` function."
      ]
    },
    {
      "cell_type": "code",
      "execution_count": 32,
      "id": "a797e44d",
      "metadata": {
        "colab": {
          "base_uri": "https://localhost:8080/"
        },
        "id": "a797e44d",
        "outputId": "e4bc1d3e-14db-4004-cb7b-e54e2ae709a9"
      },
      "outputs": [
        {
          "name": "stdout",
          "output_type": "stream",
          "text": [
            "19\n",
            "20\n"
          ]
        }
      ],
      "source": [
        "print(n+2)\n",
        "print(n+3)"
      ]
    },
    {
      "cell_type": "markdown",
      "id": "29af1f89",
      "metadata": {
        "id": "29af1f89"
      },
      "source": [
        "It also works with floating-point numbers and strings."
      ]
    },
    {
      "cell_type": "code",
      "execution_count": 33,
      "id": "73428520",
      "metadata": {
        "colab": {
          "base_uri": "https://localhost:8080/"
        },
        "id": "73428520",
        "outputId": "c33c04ef-20d3-4b09-bdb9-2a313422ff45"
      },
      "outputs": [
        {
          "name": "stdout",
          "output_type": "stream",
          "text": [
            "The value of pi is approximately\n",
            "3.141592653589793\n"
          ]
        }
      ],
      "source": [
        "print('The value of pi is approximately')\n",
        "print(math.pi)"
      ]
    },
    {
      "cell_type": "markdown",
      "id": "8b4d7f4a",
      "metadata": {
        "id": "8b4d7f4a"
      },
      "source": [
        "You can also use a sequence of expressions separated by commas."
      ]
    },
    {
      "cell_type": "code",
      "execution_count": 34,
      "id": "9ad5bddd",
      "metadata": {
        "colab": {
          "base_uri": "https://localhost:8080/"
        },
        "id": "9ad5bddd",
        "outputId": "1401ce27-87df-4a59-d421-cd8b8498301d"
      },
      "outputs": [
        {
          "name": "stdout",
          "output_type": "stream",
          "text": [
            "The value of pi is approximately 3.141592653589793\n"
          ]
        }
      ],
      "source": [
        "print('The value of pi is approximately', math.pi)"
      ]
    },
    {
      "cell_type": "markdown",
      "id": "af447ec4",
      "metadata": {
        "id": "af447ec4"
      },
      "source": [
        "Notice that the `print` function puts a space between the values."
      ]
    },
    {
      "cell_type": "markdown",
      "id": "7c73a2fa",
      "metadata": {
        "id": "7c73a2fa"
      },
      "source": [
        "## Arguments\n",
        "\n",
        "When you call a function, the expression in parenthesis is called an **argument**.\n",
        "Normally I would explain why, but in this case the technical meaning of a term has almost nothing to do with the common meaning of the word, so I won't even try.\n",
        "\n",
        "Some of the functions we've seen so far take only one argument, like `int`."
      ]
    },
    {
      "cell_type": "code",
      "execution_count": 35,
      "id": "060c60cf",
      "metadata": {
        "colab": {
          "base_uri": "https://localhost:8080/"
        },
        "id": "060c60cf",
        "outputId": "821aa5b8-b7a9-4f78-d49d-6107b9679a33"
      },
      "outputs": [
        {
          "data": {
            "text/plain": [
              "101"
            ]
          },
          "execution_count": 35,
          "metadata": {},
          "output_type": "execute_result"
        }
      ],
      "source": [
        "int('101')"
      ]
    },
    {
      "cell_type": "markdown",
      "id": "c4ad4f2c",
      "metadata": {
        "id": "c4ad4f2c"
      },
      "source": [
        "Some take two, like `math.pow`."
      ]
    },
    {
      "cell_type": "code",
      "execution_count": 36,
      "id": "2875d9e0",
      "metadata": {
        "colab": {
          "base_uri": "https://localhost:8080/"
        },
        "id": "2875d9e0",
        "outputId": "a3eb1382-fd8f-4ea3-f071-f042b1418211"
      },
      "outputs": [
        {
          "data": {
            "text/plain": [
              "25.0"
            ]
          },
          "execution_count": 36,
          "metadata": {},
          "output_type": "execute_result"
        }
      ],
      "source": [
        "math.pow(5, 2)"
      ]
    },
    {
      "cell_type": "markdown",
      "id": "17293749",
      "metadata": {
        "id": "17293749"
      },
      "source": [
        "Some can take additional arguments that are optional.\n",
        "For example, `int` can take a second argument that specifies the base of the number."
      ]
    },
    {
      "cell_type": "code",
      "execution_count": 37,
      "id": "43b9cf38",
      "metadata": {
        "colab": {
          "base_uri": "https://localhost:8080/"
        },
        "id": "43b9cf38",
        "outputId": "cda47c4b-109c-436c-c325-4d216d7be0f4"
      },
      "outputs": [
        {
          "data": {
            "text/plain": [
              "5"
            ]
          },
          "execution_count": 37,
          "metadata": {},
          "output_type": "execute_result"
        }
      ],
      "source": [
        "int('101', 2)"
      ]
    },
    {
      "cell_type": "markdown",
      "id": "c95589a1",
      "metadata": {
        "id": "c95589a1"
      },
      "source": [
        "The sequence of digits `101` in base 2 represents the number 5 in base 10.\n",
        "\n",
        "`round` also takes an optional second argument, which is the number of decimal places to round off to."
      ]
    },
    {
      "cell_type": "code",
      "execution_count": 38,
      "id": "e8a21d05",
      "metadata": {
        "colab": {
          "base_uri": "https://localhost:8080/"
        },
        "id": "e8a21d05",
        "outputId": "d5a7769d-197b-4ac8-8490-4aa06c261b5d"
      },
      "outputs": [
        {
          "data": {
            "text/plain": [
              "3.142"
            ]
          },
          "execution_count": 38,
          "metadata": {},
          "output_type": "execute_result"
        }
      ],
      "source": [
        "round(math.pi, 3)"
      ]
    },
    {
      "cell_type": "markdown",
      "id": "21e4a448",
      "metadata": {
        "id": "21e4a448"
      },
      "source": [
        "Some functions can take any number of arguments, like `print`."
      ]
    },
    {
      "cell_type": "code",
      "execution_count": 39,
      "id": "724128f4",
      "metadata": {
        "colab": {
          "base_uri": "https://localhost:8080/"
        },
        "id": "724128f4",
        "outputId": "8f98a08e-5241-4476-df41-2d32f9ee34ca"
      },
      "outputs": [
        {
          "name": "stdout",
          "output_type": "stream",
          "text": [
            "Any number of arguments\n"
          ]
        }
      ],
      "source": [
        "print('Any', 'number', 'of', 'arguments')"
      ]
    },
    {
      "cell_type": "markdown",
      "id": "667cff14",
      "metadata": {
        "id": "667cff14"
      },
      "source": [
        "If you call a function and provide too many arguments, that's a `TypeError`."
      ]
    },
    {
      "cell_type": "code",
      "execution_count": 40,
      "id": "69295e52",
      "metadata": {
        "colab": {
          "base_uri": "https://localhost:8080/",
          "height": 54
        },
        "id": "69295e52",
        "outputId": "e68d4302-f665-4c9b-92b6-2d4b64f54794",
        "tags": []
      },
      "outputs": [
        {
          "ename": "TypeError",
          "evalue": "float expected at most 1 argument, got 2",
          "output_type": "error",
          "traceback": [
            "\u001b[0;31mTypeError\u001b[0m\u001b[0;31m:\u001b[0m float expected at most 1 argument, got 2\n"
          ]
        }
      ],
      "source": [
        "%%expect TypeError\n",
        "\n",
        "float('123.0', 2)"
      ]
    },
    {
      "cell_type": "markdown",
      "id": "5103368e",
      "metadata": {
        "id": "5103368e"
      },
      "source": [
        "If you provide too few arguments, that's also a `TypeError`."
      ]
    },
    {
      "cell_type": "code",
      "execution_count": 41,
      "id": "edec7064",
      "metadata": {
        "colab": {
          "base_uri": "https://localhost:8080/",
          "height": 54
        },
        "id": "edec7064",
        "outputId": "e1df73c6-6f79-4329-d5b4-f289afc713e2",
        "tags": []
      },
      "outputs": [
        {
          "ename": "TypeError",
          "evalue": "pow expected 2 arguments, got 1",
          "output_type": "error",
          "traceback": [
            "\u001b[0;31mTypeError\u001b[0m\u001b[0;31m:\u001b[0m pow expected 2 arguments, got 1\n"
          ]
        }
      ],
      "source": [
        "%%expect TypeError\n",
        "\n",
        "math.pow(2)"
      ]
    },
    {
      "cell_type": "markdown",
      "id": "5333c416",
      "metadata": {
        "id": "5333c416"
      },
      "source": [
        "And if you provide an argument with a type the function can't handle, that's a `TypeError`, too."
      ]
    },
    {
      "cell_type": "code",
      "execution_count": 42,
      "id": "f86b2896",
      "metadata": {
        "colab": {
          "base_uri": "https://localhost:8080/",
          "height": 54
        },
        "id": "f86b2896",
        "outputId": "3fb4a8f2-9b99-4178-8405-980717b17bd6",
        "tags": []
      },
      "outputs": [
        {
          "ename": "TypeError",
          "evalue": "must be real number, not str",
          "output_type": "error",
          "traceback": [
            "\u001b[0;31mTypeError\u001b[0m\u001b[0;31m:\u001b[0m must be real number, not str\n"
          ]
        }
      ],
      "source": [
        "%%expect TypeError\n",
        "\n",
        "math.sqrt('123')"
      ]
    },
    {
      "cell_type": "markdown",
      "id": "548828af",
      "metadata": {
        "id": "548828af"
      },
      "source": [
        "This kind of checking can be annoying when you are getting started, but it helps you detect and correct errors."
      ]
    },
    {
      "cell_type": "markdown",
      "id": "be2b6a9b",
      "metadata": {
        "id": "be2b6a9b"
      },
      "source": [
        "## Comments\n",
        "\n",
        "As programs get bigger and more complicated, they get more difficult to read.\n",
        "Formal languages are dense, and it is often difficult to look at a piece of code and figure out what it is doing and why.\n",
        "\n",
        "For this reason, it is a good idea to add notes to your programs to explain in natural language what the program is doing.\n",
        "These notes are called **comments**, and they start with the `#` symbol."
      ]
    },
    {
      "cell_type": "code",
      "execution_count": 43,
      "id": "607893a6",
      "metadata": {
        "id": "607893a6"
      },
      "outputs": [],
      "source": [
        "# number of seconds in 42:42\n",
        "seconds = 42 * 60 + 42"
      ]
    },
    {
      "cell_type": "markdown",
      "id": "519c83a9",
      "metadata": {
        "id": "519c83a9"
      },
      "source": [
        "In this case, the comment appears on a line by itself. You can also put\n",
        "comments at the end of a line:"
      ]
    },
    {
      "cell_type": "code",
      "execution_count": 44,
      "id": "615a11e7",
      "metadata": {
        "id": "615a11e7"
      },
      "outputs": [],
      "source": [
        "miles = 10 / 1.61     # 10 kilometers in miles"
      ]
    },
    {
      "cell_type": "markdown",
      "id": "87c8d10c",
      "metadata": {
        "id": "87c8d10c"
      },
      "source": [
        "Everything from the `#` to the end of the line is ignored---it has no\n",
        "effect on the execution of the program.\n",
        "\n",
        "Comments are most useful when they document non-obvious features of the code.\n",
        "It is reasonable to assume that the reader can figure out *what* the code does; it is more useful to explain *why*.\n",
        "\n",
        "This comment is redundant with the code and useless:"
      ]
    },
    {
      "cell_type": "code",
      "execution_count": 45,
      "id": "cc7fe2e6",
      "metadata": {
        "id": "cc7fe2e6"
      },
      "outputs": [],
      "source": [
        "v = 8     # assign 8 to v"
      ]
    },
    {
      "cell_type": "markdown",
      "id": "eb83b14a",
      "metadata": {
        "id": "eb83b14a"
      },
      "source": [
        "This comment contains useful information that is not in the code:"
      ]
    },
    {
      "cell_type": "code",
      "execution_count": 46,
      "id": "7c93a00d",
      "metadata": {
        "id": "7c93a00d"
      },
      "outputs": [],
      "source": [
        "v = 8     # velocity in miles per hour"
      ]
    },
    {
      "cell_type": "markdown",
      "id": "6cd60d4f",
      "metadata": {
        "id": "6cd60d4f"
      },
      "source": [
        "Good variable names can reduce the need for comments, but long names can\n",
        "make complex expressions hard to read, so there is a tradeoff."
      ]
    },
    {
      "cell_type": "markdown",
      "id": "7d61e416",
      "metadata": {
        "id": "7d61e416"
      },
      "source": [
        "## Debugging\n",
        "\n",
        "Three kinds of errors can occur in a program: syntax errors, runtime errors, and semantic errors.\n",
        "It is useful to distinguish between them in order to track them down more quickly.\n",
        "\n",
        "* **Syntax error**: \"Syntax\" refers to the structure of a program and the rules about that structure. If there is a syntax error anywhere in your program, Python does not run the program. It displays an error message immediately.\n",
        "\n",
        "* **Runtime error**: If there are no syntax errors in your program, it can start running. But if something goes wrong, Python displays an error message and stops. This type of error is called a runtime error. It is also called an **exception** because it indicates that something exceptional has happened.\n",
        "\n",
        "* **Semantic error**: The third type of error is \"semantic\", which means related to meaning. If there is a semantic error in your program, it runs without generating error messages, but it does not do what you intended. Identifying semantic errors can be tricky because it requires you to work backward by looking at the output of the program and trying to figure out what it is doing."
      ]
    },
    {
      "cell_type": "markdown",
      "id": "6cd52721",
      "metadata": {
        "id": "6cd52721"
      },
      "source": [
        "As we've seen, an illegal variable name is a syntax error."
      ]
    },
    {
      "cell_type": "code",
      "execution_count": 47,
      "id": "86f07f6e",
      "metadata": {
        "colab": {
          "base_uri": "https://localhost:8080/",
          "height": 106
        },
        "id": "86f07f6e",
        "outputId": "8eae2c67-292c-4309-8165-db9b6d16fc5c",
        "tags": []
      },
      "outputs": [
        {
          "ename": "SyntaxError",
          "evalue": "invalid syntax (ipython-input-4061783710.py, line 1)",
          "output_type": "error",
          "traceback": [
            "\u001b[0;36m  File \u001b[0;32m\"/tmp/ipython-input-4061783710.py\"\u001b[0;36m, line \u001b[0;32m1\u001b[0m\n\u001b[0;31m    million! = 1000000\u001b[0m\n\u001b[0m           ^\u001b[0m\n\u001b[0;31mSyntaxError\u001b[0m\u001b[0;31m:\u001b[0m invalid syntax\n"
          ]
        }
      ],
      "source": [
        "%%expect SyntaxError\n",
        "\n",
        "million! = 1000000"
      ]
    },
    {
      "cell_type": "markdown",
      "id": "b8971d33",
      "metadata": {
        "id": "b8971d33"
      },
      "source": [
        "If you use an operator with a type it doesn't support, that's a runtime error."
      ]
    },
    {
      "cell_type": "code",
      "execution_count": null,
      "id": "682395ea",
      "metadata": {
        "id": "682395ea",
        "tags": []
      },
      "outputs": [],
      "source": [
        "%%expect TypeError\n",
        "\n",
        "'126' / 3"
      ]
    },
    {
      "cell_type": "markdown",
      "id": "e51fa6e2",
      "metadata": {
        "id": "e51fa6e2"
      },
      "source": [
        "Finally, here's an example of a semantic error.\n",
        "Suppose we want to compute the average of `1` and `3`, but we forget about the order of operations and write this:"
      ]
    },
    {
      "cell_type": "code",
      "execution_count": null,
      "id": "2ff25bda",
      "metadata": {
        "id": "2ff25bda"
      },
      "outputs": [],
      "source": [
        "1 + 3 / 2"
      ]
    },
    {
      "cell_type": "markdown",
      "id": "0828afc0",
      "metadata": {
        "id": "0828afc0"
      },
      "source": [
        "When this expression is evaluated, it does not produce an error message, so there is no syntax error or runtime error.\n",
        "But the result is not the average of `1` and `3`, so the program is not correct.\n",
        "This is a semantic error because the program runs but it doesn't do what's intended."
      ]
    },
    {
      "cell_type": "markdown",
      "id": "07396f3d",
      "metadata": {
        "id": "07396f3d"
      },
      "source": [
        "## Glossary\n",
        "\n",
        "**variable:**\n",
        "A name that refers to a value.\n",
        "\n",
        "**assignment statement:**\n",
        "A statement that assigns a value to a variable.\n",
        "\n",
        "**state diagram:**\n",
        "A graphical representation of a set of variables and the values they refer to.\n",
        "\n",
        "**keyword:**\n",
        "A special word used to specify the structure of a program.\n",
        "\n",
        "**import statement:**\n",
        "A statement that reads a module file so we can use the variables and functions it contains.\n",
        "\n",
        "**module:**\n",
        "A file that contains Python code, including function definitions and sometimes other statements.\n",
        "\n",
        "**dot operator:**\n",
        "The operator, `.`, used to access a function in another module by specifying the module name followed by a dot and the function name.\n",
        "\n",
        "**evaluate:**\n",
        "Perform the operations in an expression in order to compute a value.\n",
        "\n",
        "**statement:**\n",
        "One or more lines of code that represent a command or action.\n",
        "\n",
        "**execute:**\n",
        "Run a statement and do what it says.\n",
        "\n",
        "**argument:**\n",
        "A value provided to a function when the function is called.\n",
        "\n",
        "**comment:**\n",
        "Text included in a program that provides information about the program but has no effect on its execution.\n",
        "\n",
        "**runtime error:**\n",
        "An error that causes a program to display an error message and exit.\n",
        "\n",
        "**exception:**\n",
        "An error that is detected while the program is running.\n",
        "\n",
        "**semantic error:**\n",
        "An error that causes a program to do the wrong thing, but not to display an error message."
      ]
    },
    {
      "cell_type": "markdown",
      "id": "70ee273d",
      "metadata": {
        "id": "70ee273d"
      },
      "source": [
        "## Exercises"
      ]
    },
    {
      "cell_type": "code",
      "execution_count": 48,
      "id": "c9e6cab4",
      "metadata": {
        "colab": {
          "base_uri": "https://localhost:8080/"
        },
        "id": "c9e6cab4",
        "outputId": "73718cab-6c83-432c-90e5-e1a7a616ccc8",
        "tags": []
      },
      "outputs": [
        {
          "name": "stdout",
          "output_type": "stream",
          "text": [
            "Exception reporting mode: Verbose\n"
          ]
        }
      ],
      "source": [
        "# This cell tells Jupyter to provide detailed debugging information\n",
        "# when a runtime error occurs. Run it before working on the exercises.\n",
        "\n",
        "%xmode Verbose"
      ]
    },
    {
      "cell_type": "markdown",
      "id": "7256a9b2",
      "metadata": {
        "id": "7256a9b2"
      },
      "source": [
        "### Ask a virtual assistant\n",
        "\n",
        "Again, I encourage you to use a virtual assistant to learn more about any of the topics in this chapter.\n",
        "\n",
        "If you are curious about any of keywords I listed, you could ask \"Why is class a keyword?\" or \"Why can't variable names be keywords?\"\n",
        "\n",
        "You might have noticed that `int`, `float`, and `str` are not Python keywords.\n",
        "They are variables that represent types, and they can be used as functions.\n",
        "So it is *legal* to have a variable or function with one of those names, but it is strongly discouraged. Ask an assistant \"Why is it bad to use int, float, and str as variable names?\"\n",
        "\n",
        "Also ask, \"What are the built-in functions in Python?\"\n",
        "If you are curious about any of them, ask for more information.\n",
        "\n",
        "In this chapter we imported the `math` module and used some of the variable and functions it provides. Ask an assistant, \"What variables and functions are in the math module?\" and \"Other than math, what modules are considered core Python?\""
      ]
    },
    {
      "cell_type": "markdown",
      "id": "f92afde0",
      "metadata": {
        "id": "f92afde0"
      },
      "source": [
        "### Exercise\n",
        "\n",
        "Repeating my advice from the previous chapter, whenever you learn a new feature, you should make errors on purpose to see what goes wrong.\n",
        "\n",
        "-   We've seen that `n = 17` is legal. What about `17 = n`?\n",
        "\n",
        "-   How about `x = y = 1`?\n",
        "\n",
        "-   In some languages every statement ends with a semi-colon (`;`). What\n",
        "    happens if you put a semi-colon at the end of a Python statement?\n",
        "\n",
        "-   What if you put a period at the end of a statement?\n",
        "\n",
        "-   What happens if you spell the name of a module wrong and try to import `maath`?"
      ]
    },
    {
      "cell_type": "markdown",
      "id": "9d562609",
      "metadata": {
        "id": "9d562609"
      },
      "source": [
        "### Exercise\n",
        "Practice using the Python interpreter as a calculator:\n",
        "\n",
        "**Part 1.**  The volume of a sphere with radius $r$ is $\\frac{4}{3} \\pi r^3$.\n",
        "What is the volume of a sphere with radius 5? Start with a variable named `radius` and then assign the result to a variable named `volume`. Display the result. Add comments to indicate that `radius` is in centimeters and `volume` in cubic centimeters."
      ]
    },
    {
      "cell_type": "code",
      "execution_count": 51,
      "id": "18de7d96",
      "metadata": {
        "colab": {
          "base_uri": "https://localhost:8080/"
        },
        "id": "18de7d96",
        "outputId": "83a5d878-9fb1-425a-ae50-ed20d03fa72f"
      },
      "outputs": [
        {
          "name": "stdout",
          "output_type": "stream",
          "text": [
            "Sphere of radius 5 cm has volume 523.6 cm^3\n"
          ]
        }
      ],
      "source": [
        "# Solution goes here\n",
        "r=5\n",
        "volume = 4/3*math.pi*r**3\n",
        "print(f\"Sphere of radius {r} cm has volume {round(volume,2)} cm^3\")"
      ]
    },
    {
      "cell_type": "markdown",
      "id": "6449b12b",
      "metadata": {
        "id": "6449b12b"
      },
      "source": [
        "**Part 2.** A rule of trigonometry says that for any value of $x$, $(\\cos x)^2 + (\\sin x)^2 = 1$. Let's see if it's true for a specific value of $x$ like 42.\n",
        "\n",
        "Create a variable named `x` with this value.\n",
        "Then use `math.cos` and `math.sin` to compute the sine and cosine of $x$, and the sum of their squared.\n",
        "\n",
        "The result should be close to 1. It might not be exactly 1 because floating-point arithmetic is not exact---it is only approximately correct."
      ]
    },
    {
      "cell_type": "code",
      "execution_count": 53,
      "id": "de812cff",
      "metadata": {
        "colab": {
          "base_uri": "https://localhost:8080/"
        },
        "id": "de812cff",
        "outputId": "75cef450-9f12-4ca6-ae33-e0bcb13b0663"
      },
      "outputs": [
        {
          "name": "stdout",
          "output_type": "stream",
          "text": [
            "Is sin(x)^2 + cos(x)^2 = 1 when x = 42? : True\n"
          ]
        }
      ],
      "source": [
        "# Solution goes here\n",
        "x = 42\n",
        "trig_rule = math.cos(x)**2 + math.sin(x)**2 == 1\n",
        "print(f\"Is sin(x)^2 + cos(x)^2 = 1 when x = {x}? : {trig_rule}\")"
      ]
    },
    {
      "cell_type": "markdown",
      "id": "4986801f",
      "metadata": {
        "id": "4986801f"
      },
      "source": [
        "**Part 3.** In addition to `pi`, the other variable defined in the `math` module is `e`, which represents the base of the natural logarithm, written in math notation as $e$. If you are not familiar with this value, ask a virtual assistant \"What is `math.e`?\" Now let's compute $e^2$ three ways:\n",
        "\n",
        "* Use `math.e` and the exponentiation operator (`**`).\n",
        "\n",
        "* Use `math.pow` to raise `math.e` to the power `2`.\n",
        "\n",
        "* Use `math.exp`, which takes as an argument a value, $x$, and computes $e^x$.\n",
        "\n",
        "You might notice that the last result is slightly different from the other two.\n",
        "See if you can find out which is correct."
      ]
    },
    {
      "cell_type": "code",
      "execution_count": 56,
      "id": "b4ada618",
      "metadata": {
        "colab": {
          "base_uri": "https://localhost:8080/"
        },
        "id": "b4ada618",
        "outputId": "2a094fe1-8507-4405-bd37-5521ae5370cf"
      },
      "outputs": [
        {
          "name": "stdout",
          "output_type": "stream",
          "text": [
            "Method 1: 7.3890560989306495\n",
            "Method 2: 7.3890560989306495\n",
            "Method 3: 7.38905609893065\n"
          ]
        }
      ],
      "source": [
        "# Solution goes here\n",
        "print(f\"Method 1: {math.e ** 2}\\nMethod 2: {math.pow(math.e, 2)}\\nMethod 3: {math.exp(2)}\")"
      ]
    },
    {
      "cell_type": "code",
      "execution_count": null,
      "id": "4424940f",
      "metadata": {
        "id": "4424940f"
      },
      "outputs": [],
      "source": [
        "# Solution goes here"
      ]
    },
    {
      "cell_type": "code",
      "execution_count": null,
      "id": "50e8393a",
      "metadata": {
        "id": "50e8393a"
      },
      "outputs": [],
      "source": [
        "# Solution goes here"
      ]
    },
    {
      "cell_type": "code",
      "execution_count": null,
      "id": "91e5a869",
      "metadata": {
        "id": "91e5a869"
      },
      "outputs": [],
      "source": []
    },
    {
      "cell_type": "markdown",
      "id": "a7f4edf8",
      "metadata": {
        "id": "a7f4edf8",
        "tags": []
      },
      "source": [
        "[Think Python: 3rd Edition](https://allendowney.github.io/ThinkPython/index.html)\n",
        "\n",
        "Copyright 2024 [Allen B. Downey](https://allendowney.com)\n",
        "\n",
        "Code license: [MIT License](https://mit-license.org/)\n",
        "\n",
        "Text license: [Creative Commons Attribution-NonCommercial-ShareAlike 4.0 International](https://creativecommons.org/licenses/by-nc-sa/4.0/)"
      ]
    }
  ],
  "metadata": {
    "celltoolbar": "Tags",
    "colab": {
      "provenance": []
    },
    "kernelspec": {
      "display_name": "Python 3 (ipykernel)",
      "language": "python",
      "name": "python3"
    },
    "language_info": {
      "codemirror_mode": {
        "name": "ipython",
        "version": 3
      },
      "file_extension": ".py",
      "mimetype": "text/x-python",
      "name": "python",
      "nbconvert_exporter": "python",
      "pygments_lexer": "ipython3",
      "version": "3.10.11"
    },
    "vscode": {
      "interpreter": {
        "hash": "357b915890fbc73e00b3ee3cc7035b34e6189554c2854644fe780ff20c2fdfc0"
      }
    }
  },
  "nbformat": 4,
  "nbformat_minor": 5
}
